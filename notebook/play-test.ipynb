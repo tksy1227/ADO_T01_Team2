{
 "cells": [
  {
   "cell_type": "code",
   "execution_count": 2,
   "metadata": {},
   "outputs": [
    {
     "ename": "NameError",
     "evalue": "name 'get_snowflake_connection' is not defined",
     "output_type": "error",
     "traceback": [
      "\u001b[0;31m---------------------------------------------------------------------------\u001b[0m",
      "\u001b[0;31mNameError\u001b[0m                                 Traceback (most recent call last)",
      "Cell \u001b[0;32mIn[2], line 17\u001b[0m\n\u001b[1;32m     11\u001b[0m \u001b[38;5;66;03m# Example query\u001b[39;00m\n\u001b[1;32m     12\u001b[0m APPLICATION_CITIES_query \u001b[38;5;241m=\u001b[39m \u001b[38;5;124m\"\"\"\u001b[39m\n\u001b[1;32m     13\u001b[0m \u001b[38;5;124m    SELECT * \u001b[39m\n\u001b[1;32m     14\u001b[0m \u001b[38;5;124m    FROM KN_LOGISTICS.SNOWSQL.APPLICATION_CITIES\u001b[39m\n\u001b[1;32m     15\u001b[0m \u001b[38;5;124m\"\"\"\u001b[39m\n\u001b[0;32m---> 17\u001b[0m APPLICATION_CITIES_df \u001b[38;5;241m=\u001b[39m \u001b[43mget_data_from_snowflake\u001b[49m\u001b[43m(\u001b[49m\u001b[43mAPPLICATION_CITIES_query\u001b[49m\u001b[43m)\u001b[49m\n",
      "Cell \u001b[0;32mIn[2], line 4\u001b[0m, in \u001b[0;36mget_data_from_snowflake\u001b[0;34m(query)\u001b[0m\n\u001b[1;32m      3\u001b[0m \u001b[38;5;28;01mdef\u001b[39;00m \u001b[38;5;21mget_data_from_snowflake\u001b[39m(query):\n\u001b[0;32m----> 4\u001b[0m     conn \u001b[38;5;241m=\u001b[39m \u001b[43mget_snowflake_connection\u001b[49m()\n\u001b[1;32m      5\u001b[0m     cursor \u001b[38;5;241m=\u001b[39m conn\u001b[38;5;241m.\u001b[39mcursor()\n\u001b[1;32m      6\u001b[0m     cursor\u001b[38;5;241m.\u001b[39mexecute(query)\n",
      "\u001b[0;31mNameError\u001b[0m: name 'get_snowflake_connection' is not defined"
     ]
    }
   ],
   "source": [
    "import pandas as pd\n",
    "\n",
    "def get_data_from_snowflake(query):\n",
    "    conn = get_snowflake_connection()\n",
    "    cursor = conn.cursor()\n",
    "    cursor.execute(query)\n",
    "    data = cursor.fetchall()\n",
    "    df = pd.DataFrame(data, columns=[desc[0] for desc in cursor.description])\n",
    "    return df\n",
    "\n",
    "# Example query\n",
    "APPLICATION_CITIES_query = \"\"\"\n",
    "    SELECT * \n",
    "    FROM KN_LOGISTICS.SNOWSQL.APPLICATION_CITIES\n",
    "\"\"\"\n",
    "\n",
    "APPLICATION_CITIES_df = get_data_from_snowflake(APPLICATION_CITIES_query)"
   ]
  },
  {
   "cell_type": "code",
   "execution_count": null,
   "metadata": {},
   "outputs": [],
   "source": []
  }
 ],
 "metadata": {
  "kernelspec": {
   "display_name": "Python 3 (ipykernel)",
   "language": "python",
   "name": "python3"
  },
  "language_info": {
   "codemirror_mode": {
    "name": "ipython",
    "version": 3
   },
   "file_extension": ".py",
   "mimetype": "text/x-python",
   "name": "python",
   "nbconvert_exporter": "python",
   "pygments_lexer": "ipython3",
   "version": "3.12.1"
  }
 },
 "nbformat": 4,
 "nbformat_minor": 2
}
