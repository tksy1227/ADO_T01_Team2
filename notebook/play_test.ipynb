import pandas as pd

def get_data_from_snowflake(query):
    conn = get_snowflake_connection()
    cursor = conn.cursor()
    cursor.execute(query)
    data = cursor.fetchall()
    df = pd.DataFrame(data, columns=[desc[0] for desc in cursor.description])
    return df

# Example query
APPLICATION_CITIES_query = """
    SELECT * 
    FROM KN_LOGISTICS.SNOWSQL.APPLICATION_CITIES
"""

APPPLICATION_CITIES_df = get_data_from_snowflake(APPLICATION_CITIES_query)
