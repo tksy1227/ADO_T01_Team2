{
 "metadata": {
  "kernelspec": {
   "display_name": ".venv",
   "language": "python",
   "name": "python3"
  },
  "language_info": {
   "codemirror_mode": {
    "name": "ipython",
    "version": 3
   },
   "file_extension": ".py",
   "mimetype": "text/x-python",
   "name": "python",
   "nbconvert_exporter": "python",
   "pygments_lexer": "ipython3",
   "version": "3.11.11"
  },
  "lastEditStatus": {
   "notebookId": "zdezwrpvnj5zfobtftwm",
   "authorId": "7488247245231",
   "authorName": "CAMEL",
   "authorEmail": "s10256056@connect.np.edu.sg",
   "sessionId": "74d193f2-9af1-42e7-8b76-fceb91828572",
   "lastEditTime": 1739090299612
  }
 },
 "nbformat_minor": 5,
 "nbformat": 4,
 "cells": [
  {
   "cell_type": "markdown",
   "id": "2e3d0f27-beda-4bd8-ba62-f254495e7199",
   "metadata": {
    "collapsed": false,
    "name": "cell11",
    "resultHeight": 155
   },
   "source": [
    "#### Why Snowpark?\n",
    "The purpose of Snowpark lies in its ability to provide more flexibility, scalability, and integration for data processing and orchestration tasks.|\n",
    "\n",
    "Orchestrating Jobs and Pipelines: We can automate Snowpark-based pipelines (UDFs, views, and other transformations) in a more flexible way. Snowpark code can be versioned and tested, making it easier to maintain and extend in your pipeline."
   ]
  },
  {
   "cell_type": "markdown",
   "id": "42a43097-6759-409e-9ebe-6d32f06a06d9",
   "metadata": {
    "name": "cell18",
    "collapsed": false,
    "resultHeight": 130
   },
   "source": "#### Note:\nThis notebook is to validate, clean and update data in tables of lesser priority in terms of updating speed.\n\nData tables that do not need a faster updating speed will be processed here."
  },
  {
   "cell_type": "markdown",
   "id": "2aaa3a96-f621-441b-adb6-71845743178b",
   "metadata": {
    "name": "cell19",
    "collapsed": false,
    "resultHeight": 178
   },
   "source": "#### Desired Flow\n1. Grab data from raw tables\n2. Check for data, validate, check and update cleaned data onto the cleaned tables\n3. Join tables via foreign keys and make hybrid master table\n4. Create Schema Views"
  },
  {
   "cell_type": "markdown",
   "id": "a87236c5-ff90-4956-99d6-234a7300a821",
   "metadata": {
    "collapsed": false,
    "name": "cell5",
    "resultHeight": 114
   },
   "source": [
    "#### 1. Loading Data In\n",
    "\n",
    "Since we already push our data onto Snowflake, we can call for them in this notebook to run in Snowpark. This will be the first step to the data flow overview for establishing the CI/CD deployment & finalizing the ELT pipepline."
   ]
  },
  {
   "cell_type": "code",
   "execution_count": 1,
   "id": "ce110000-1111-2222-3333-ffffff000000",
   "metadata": {
    "name": "cell4",
    "language": "python",
    "resultHeight": 0,
    "codeCollapsed": false
   },
   "outputs": [],
   "source": "import time\nfrom snowflake.snowpark import Session\n\n# Define all tables organized by categories or schemas\nTABLE_DICT = {\n    \"application\": {\n        \"schema\": \"KN_LOGISTICS.SNOWSQL\", \n        \"tables\": [\n            \"APPLICATION_CITIES\",\n            \"APPLICATION_COUNTRIES_SEA\",\n            \"APPLICATION_DELIVERYMETHODS\",\n            \"APPLICATION_PAYMENTMETHODS\",\n            \"APPLICATION_TRANSACTIONTYPES\"\n        ]\n    },\n    \"purchasing\": {\n        \"schema\": \"KN_LOGISTICS.SNOWSQL\",\n        \"tables\": [\n            \"PURCHASING_SUPPLIERCATEGORIES\",\n            \"PURCHASING_SUPPLIERS\"\n        ]\n    },\n    \"sales\": {\n        \"schema\": \"KN_LOGISTICS.SNOWSQL\",\n        \"tables\": [\n            \"SALES_BUYINGGROUPS\",\n        ]\n    },\n    \"warehouse\": {\n        \"schema\": \"KN_LOGISTICS.SNOWSQL\",\n        \"tables\": [\n            \"WAREHOUSE_COLORS\",\n            \"WAREHOUSE_PACKAGETYPES\"\n        ]\n    }\n}\n\ndef load_raw_table(session, tname=None, schema=None):\n    # Adjusted for direct use (no S3 staging assumed in your case)\n    session.use_schema(schema)\n    print(f\"Loading table: {tname}\")\n    # If additional logic for transformations/loading is needed, add it here\n    df = session.table(tname)\n    df.show()  # Example action to verify table content\n\ndef load_all_tables(session):\n    for category, data in TABLE_DICT.items():\n        schema = data['schema']\n        tables = data['tables']\n        for tname in tables:\n            load_raw_table(session, tname=tname, schema=schema)\n\ndef validate_tables(session):\n    for category, data in TABLE_DICT.items():\n        schema = data['schema']\n        tables = data['tables']\n        for tname in tables:\n            session.use_schema(schema)\n            print(f\"Validating table: {tname}\")\n            print(f\"Columns: {session.table(tname).columns}\")"
  },
  {
   "cell_type": "code",
   "execution_count": null,
   "id": "b32660d9-0f5c-4975-afd2-bb8b3cacb3ad",
   "metadata": {
    "codeCollapsed": false,
    "collapsed": false,
    "language": "python",
    "name": "cell6",
    "resultHeight": 0
   },
   "outputs": [],
   "source": [
    "# Add the utils package to our path and import the snowpark_utils function\n",
    "import os, sys\n",
    "current_dir = os.getcwd()\n",
    "parent_dir = os.path.dirname(current_dir)\n",
    "sys.path.append(parent_dir)"
   ]
  },
  {
   "cell_type": "code",
   "execution_count": null,
   "id": "ca3e838c-495c-49df-94be-d548c81adbb7",
   "metadata": {
    "codeCollapsed": false,
    "collapsed": false,
    "language": "python",
    "name": "cell7",
    "resultHeight": 0
   },
   "outputs": [],
   "source": "#from snowflake.snowpark.context import get_active_session\nsession = get_active_session()"
  },
  {
   "cell_type": "code",
   "execution_count": null,
   "id": "5fb151bf-2d29-43d7-9a65-d08dac6c7064",
   "metadata": {
    "codeCollapsed": false,
    "collapsed": false,
    "language": "python",
    "name": "cell8",
    "resultHeight": 8754
   },
   "outputs": [],
   "source": [
    "load_all_tables(session)"
   ]
  },
  {
   "cell_type": "code",
   "execution_count": null,
   "id": "a59c36df-1fe8-4bcf-9efb-e834b978efb0",
   "metadata": {
    "codeCollapsed": false,
    "collapsed": false,
    "language": "python",
    "name": "cell9",
    "resultHeight": 1231
   },
   "outputs": [],
   "source": [
    "validate_tables(session)"
   ]
  },
  {
   "cell_type": "markdown",
   "id": "301f0519-2357-4a4d-b1fe-f460346fb7c7",
   "metadata": {
    "name": "cell2",
    "collapsed": false,
    "resultHeight": 379
   },
   "source": "#### 2. Check for data, validate, check and update cleaned data onto the cleaned tables\nAfter pulling in the raw data, we can check and validate these raw data to make sure they are of a certain format eligible to be pushed over to the cleaned tables. \n\nIf not, we will clean the tables accordingly then update them over to the cleaned tables.\n\nSome of the validation we can do is:\n- Check for null values\n- Check for duplicates in PK and UQ\n- Check for invalid datetypes & text formats\n\nAfter cleaning the data, we need to validate ONE MORE TIME to make sure the data has not been imported into the cleaned tables before. If validation succeeds, we update the current records over to the cleaned tables.\n- Check if the data records exist in the cleaned tables (checkj if they are identitcal)"
  },
  {
   "cell_type": "markdown",
   "id": "f3f6458e-33d2-4427-97d6-88c1e3485152",
   "metadata": {
    "name": "cell1",
    "collapsed": false,
    "resultHeight": 47
   },
   "source": "#### Cleaning APPLICATION_CITIES"
  },
  {
   "cell_type": "code",
   "id": "1ac02063-e216-424c-b6e7-042a8f5cb469",
   "metadata": {
    "language": "sql",
    "name": "cell3",
    "collapsed": false,
    "codeCollapsed": true
   },
   "outputs": [],
   "source": "-- Create a clean table with the same structure as the raw table\nCREATE OR REPLACE TABLE KN_LOGISTICS.SNOWSQL.APPLICATION_CITIES AS\nSELECT\n  CAST(CASE WHEN CITYID = 'NULL' THEN NULL ELSE CITYID END AS VARCHAR(38)) AS CITYID,\n  CAST(CASE WHEN CITYNAME = 'NULL' THEN NULL ELSE CITYNAME END AS VARCHAR(50)) AS CITYNAME,\n  CAST(CASE WHEN COUNTRYID = 'NULL' THEN NULL ELSE COUNTRYID END AS VARCHAR(38)) AS COUNTRYID,\n  CAST(CASE WHEN LATITUDE = 'NULL' THEN NULL ELSE LATITUDE END AS VARCHAR(38)) AS LATITUDE,\n  CAST(CASE WHEN LONGITUDE = 'NULL' THEN NULL ELSE LONGITUDE END AS VARCHAR(38)) AS LONGITUDE,\n  CAST(CASE WHEN LATESTRECORDEDPOPULATION = 'NULL' THEN NULL ELSE LATESTRECORDEDPOPULATION END AS VARCHAR(38)) AS LATESTRECORDEDPOPULATION\nFROM KN_LOGISTICS.SNOWSQL.APPLICATION_CITIES_RAW;\n\n-- Verify the clean table\nSELECT *\nFROM KN_LOGISTICS.SNOWSQL.APPLICATION_CITIES;\n\n--------------------------------------------------------------\n--CONVERSION OF DATATYPES \n--------------------------------------------------------------\n// CITYID\nALTER TABLE KN_LOGISTICS.SNOWSQL.APPLICATION_CITIES\nADD COLUMN CITYID_NUM NUMBER(38,0);\n\nUPDATE KN_LOGISTICS.SNOWSQL.APPLICATION_CITIES\nSET CITYID_NUM = TO_NUMBER(CITYID);\n\nSELECT CITYID, CITYID_NUM\nFROM KN_LOGISTICS.SNOWSQL.APPLICATION_CITIES;\n\nALTER TABLE KN_LOGISTICS.SNOWSQL.APPLICATION_CITIES\nDROP COLUMN CITYID;\n\nALTER TABLE KN_LOGISTICS.SNOWSQL.APPLICATION_CITIES\nRENAME COLUMN CITYID_NUM TO CITYID;\n// Check 10 rows of SUPPLIERID after updating the data type\nSELECT CITYID FROM KN_LOGISTICS.SNOWSQL.APPLICATION_CITIES LIMIT 10;\n\n// Check 10 rows of the whole table after updating the data type\nSELECT * FROM KN_LOGISTICS.SNOWSQL.APPLICATION_CITIES;\n\n// COUNTRYID\nALTER TABLE KN_LOGISTICS.SNOWSQL.APPLICATION_CITIES\nADD COLUMN COUNTRYID_NUM NUMBER(38,0);\n\nUPDATE KN_LOGISTICS.SNOWSQL.APPLICATION_CITIES\nSET COUNTRYID_NUM = TO_NUMBER(COUNTRYID);\n\nSELECT COUNTRYID, COUNTRYID_NUM\nFROM KN_LOGISTICS.SNOWSQL.APPLICATION_CITIES;\n\nALTER TABLE KN_LOGISTICS.SNOWSQL.APPLICATION_CITIES\nDROP COLUMN COUNTRYID;\n\nALTER TABLE KN_LOGISTICS.SNOWSQL.APPLICATION_CITIES\nRENAME COLUMN COUNTRYID_NUM TO COUNTRYID;\n// Check 10 rows of SUPPLIERID after updating the data type\nSELECT COUNTRYID FROM KN_LOGISTICS.SNOWSQL.APPLICATION_CITIES LIMIT 10;\n\n// LATITUDE\nALTER TABLE KN_LOGISTICS.SNOWSQL.APPLICATION_CITIES\nADD COLUMN LATITUDE_NUM NUMBER(38,0);\n\nUPDATE KN_LOGISTICS.SNOWSQL.APPLICATION_CITIES\nSET LATITUDE_NUM = TO_NUMBER(LATITUDE);\n\nSELECT LATITUDE, LATITUDE_NUM\nFROM KN_LOGISTICS.SNOWSQL.APPLICATION_CITIES;\n\nALTER TABLE KN_LOGISTICS.SNOWSQL.APPLICATION_CITIES\nDROP COLUMN LATITUDE;\n\nALTER TABLE KN_LOGISTICS.SNOWSQL.APPLICATION_CITIES\nRENAME COLUMN LATITUDE_NUM TO LATITUDE;\n// Check 10 rows of SUPPLIERID after updating the data type\nSELECT LATITUDE FROM KN_LOGISTICS.SNOWSQL.APPLICATION_CITIES LIMIT 10;\n\n// LONGITUDE\nALTER TABLE KN_LOGISTICS.SNOWSQL.APPLICATION_CITIES\nADD COLUMN LONGITUDE_NUM NUMBER(38,0);\n\nUPDATE KN_LOGISTICS.SNOWSQL.APPLICATION_CITIES\nSET LONGITUDE_NUM = TO_NUMBER(LONGITUDE);\n\nSELECT LONGITUDE, LONGITUDE_NUM\nFROM KN_LOGISTICS.SNOWSQL.APPLICATION_CITIES;\n\nALTER TABLE KN_LOGISTICS.SNOWSQL.APPLICATION_CITIES\nDROP COLUMN LONGITUDE;\n\nALTER TABLE KN_LOGISTICS.SNOWSQL.APPLICATION_CITIES\nRENAME COLUMN LONGITUDE_NUM TO LONGITUDE;\n// Check 10 rows of SUPPLIERID after updating the data type\nSELECT LONGITUDE FROM KN_LOGISTICS.SNOWSQL.APPLICATION_CITIES LIMIT 10;\n\n// LATESTRECORDEDPOPULATION\nALTER TABLE KN_LOGISTICS.SNOWSQL.APPLICATION_CITIES\nADD COLUMN LATESTRECORDEDPOPULATION_NUM NUMBER(38,0);\n\nUPDATE KN_LOGISTICS.SNOWSQL.APPLICATION_CITIES\nSET LATESTRECORDEDPOPULATION_NUM = TO_NUMBER(LATESTRECORDEDPOPULATION);\n\nSELECT LATESTRECORDEDPOPULATION, LATESTRECORDEDPOPULATION_NUM\nFROM KN_LOGISTICS.SNOWSQL.APPLICATION_CITIES;\n\nALTER TABLE KN_LOGISTICS.SNOWSQL.APPLICATION_CITIES\nDROP COLUMN LATESTRECORDEDPOPULATION;\n\nALTER TABLE KN_LOGISTICS.SNOWSQL.APPLICATION_CITIES\nRENAME COLUMN LATESTRECORDEDPOPULATION_NUM TO LATESTRECORDEDPOPULATION;\n// Check 10 rows of SUPPLIERID after updating the data type\nSELECT LATESTRECORDEDPOPULATION FROM KN_LOGISTICS.SNOWSQL.APPLICATION_CITIES LIMIT 10;\n\n--------------------------------------------------------------\n--ADDING OF PRIMARY KEYS TO TABLE\n--------------------------------------------------------------\nALTER TABLE KN_LOGISTICS.SNOWSQL.APPLICATION_CITIES\nADD CONSTRAINT PK_APPLICATION_CITIES_CITYID\nPRIMARY KEY (CITYID);\n\n--------------------------------------------------------------\n--ERROR HANDLING\n--------------------------------------------------------------\nWITH CTE AS (\n    SELECT \n        CITYID, \n        CITYNAME, \n        COUNTRYID,\n        LATITUDE,\n        LONGITUDE,\n        LATESTRECORDEDPOPULATION,\n        LAG(CITYID) OVER (ORDER BY CITYID) AS prev_cityid,\n        ROW_NUMBER() OVER (ORDER BY CITYID) AS row_num\n    FROM KN_LOGISTICS.SNOWSQL.APPLICATION_CITIES\n)\nSELECT \n        CITYNAME, \n        COUNTRYID,\n        LATITUDE,\n        LONGITUDE,\n        LATESTRECORDEDPOPULATION,\n    CASE\n        WHEN CITYID IS NULL THEN prev_cityid + 1\n        ELSE CITYID\n    END AS CITYID\nFROM CTE\nORDER BY row_num;\n\n\n-------------------------------------------------------\n--Adding of foreign key to table\n-------------------------------------------------------\n\n-- Foreign Key: APPLICATION_CITIES.COUNTRYID -> APPLICATION_COUNTRIES_SEA.COUNTRYID\nALTER TABLE KN_LOGISTICS.SNOWSQL.APPLICATION_CITIES\nADD CONSTRAINT FK_APPLICATION_CITIES_COUNTRYID_APPLICATION_COUNTRIES_SEA\nFOREIGN KEY (COUNTRYID)\nREFERENCES KN_LOGISTICS.SNOWSQL.APPLICATION_COUNTRIES_SEA(COUNTRYID);\n\nSELECT * FROM APPLICATION_CITIES LIMIT 20\n",
   "execution_count": null
  },
  {
   "cell_type": "markdown",
   "id": "7fd57c5c-ecd6-47a5-bf30-21049e847ae2",
   "metadata": {
    "name": "cell10",
    "collapsed": false,
    "resultHeight": 47
   },
   "source": "#### Cleaning APPLICATION_COUNTRIES-SEA"
  },
  {
   "cell_type": "code",
   "id": "b3a659ae-3b6e-460b-8222-aac49e4d5b3a",
   "metadata": {
    "language": "sql",
    "name": "cell12",
    "collapsed": true,
    "codeCollapsed": true
   },
   "outputs": [],
   "source": "-- Create a clean table with the same structure as the raw table\nCREATE OR REPLACE TABLE KN_LOGISTICS.SNOWSQL.APPLICATION_COUNTRIES_SEA AS\nSELECT\n  CAST(CASE WHEN COUNTRYNAME = 'NULL' THEN NULL ELSE COUNTRYNAME END AS VARCHAR(60)) AS COUNTRYNAME,\n  CAST(CASE WHEN FORMALNAME = 'NULL' THEN NULL ELSE FORMALNAME END AS VARCHAR(60)) AS FORMALNAME,\n  CAST(CASE WHEN CONTINENT = 'NULL' THEN NULL ELSE CONTINENT END AS VARCHAR(30)) AS CONTINENT,\n  CAST(CASE WHEN REGION = 'NULL' THEN NULL ELSE REGION END AS VARCHAR(30)) AS REGION,\n  CAST(CASE WHEN SUBREGION = 'NULL' THEN NULL ELSE SUBREGION END AS VARCHAR(30)) AS SUBREGION,\n  CAST(CASE WHEN COUNTRYID = 'NULL' THEN NULL ELSE COUNTRYID END AS VARCHAR(38)) AS COUNTRYID,\n  CAST(CASE WHEN LATESTRECORDEDPOPULATION = 'NULL' THEN NULL ELSE LATESTRECORDEDPOPULATION END AS VARCHAR(38)) AS LATESTRECORDEDPOPULATION\nFROM KN_LOGISTICS.SNOWSQL.APPLICATION_COUNTRIES_SEA_RAW;\n\n-- Verify the clean table\nSELECT *\nFROM KN_LOGISTICS.SNOWSQL.APPLICATION_COUNTRIES_SEA;\n\n--------------------------------------------------------------\n--CONVERSION OF DATATYPES \n--------------------------------------------------------------\n//COUNTRYID\nALTER TABLE KN_LOGISTICS.SNOWSQL.APPLICATION_COUNTRIES_SEA\nADD COLUMN COUNTRYID_NUM NUMBER(38,0);\n\nUPDATE KN_LOGISTICS.SNOWSQL.APPLICATION_COUNTRIES_SEA\nSET COUNTRYID_NUM = TO_NUMBER(COUNTRYID);\n\nSELECT COUNTRYID, COUNTRYID_NUM\nFROM KN_LOGISTICS.SNOWSQL.APPLICATION_COUNTRIES_SEA;\n\nALTER TABLE KN_LOGISTICS.SNOWSQL.APPLICATION_COUNTRIES_SEA\nDROP COLUMN COUNTRYID;\n\nALTER TABLE KN_LOGISTICS.SNOWSQL.APPLICATION_COUNTRIES_SEA\nRENAME COLUMN COUNTRYID_NUM TO COUNTRYID;\n// Check 10 rows of SUPPLIERID after updating the data type\nSELECT COUNTRYID FROM KN_LOGISTICS.SNOWSQL.APPLICATION_COUNTRIES_SEA LIMIT 10;\n\n// Check 10 rows of the whole table after updating the data type\nSELECT * FROM KN_LOGISTICS.SNOWSQL.APPLICATION_COUNTRIES_SEA;\n\n// LATESTRECORDEDPOPULATION\nALTER TABLE KN_LOGISTICS.SNOWSQL.APPLICATION_COUNTRIES_SEA\nADD COLUMN LATESTRECORDEDPOPULATION_NUM NUMBER(38,0);\n\nUPDATE KN_LOGISTICS.SNOWSQL.APPLICATION_COUNTRIES_SEA\nSET LATESTRECORDEDPOPULATION_NUM = TO_NUMBER(LATESTRECORDEDPOPULATION);\n\nSELECT LATESTRECORDEDPOPULATION, LATESTRECORDEDPOPULATION_NUM\nFROM KN_LOGISTICS.SNOWSQL.APPLICATION_COUNTRIES_SEA;\n\nALTER TABLE KN_LOGISTICS.SNOWSQL.APPLICATION_COUNTRIES_SEA\nDROP COLUMN LATESTRECORDEDPOPULATION;\n\nALTER TABLE KN_LOGISTICS.SNOWSQL.APPLICATION_COUNTRIES_SEA\nRENAME COLUMN LATESTRECORDEDPOPULATION_NUM TO LATESTRECORDEDPOPULATION;\n// Check 10 rows of SUPPLIERID after updating the data type\nSELECT LATESTRECORDEDPOPULATION FROM KN_LOGISTICS.SNOWSQL.APPLICATION_COUNTRIES_SEA LIMIT 10;\n\n\n--------------------------------------------------------------\n--ADDING OF PRIMARY KEYS TO TABLE\n--------------------------------------------------------------\n\nALTER TABLE KN_LOGISTICS.SNOWSQL.APPLICATION_COUNTRIES_SEA\nADD CONSTRAINT PK_APPLICATION_COUNTRIES_SEA_COUNTRYID\nPRIMARY KEY (COUNTRYID);\n\n--------------------------------------------------------------\n--Adding of unique key to table\n--------------------------------------------------------------\nALTER TABLE KN_LOGISTICS.SNOWSQL.APPLICATION_COUNTRIES_SEA\nADD CONSTRAINT UK_APPLICATION_COUNTRIES_SEA_COUNTRYNAME\nUNIQUE (COUNTRYNAME);\n\nALTER TABLE KN_LOGISTICS.SNOWSQL.APPLICATION_COUNTRIES_SEA\nADD CONSTRAINT UK_APPLICATION_COUNTRIES_SEA_FORMALNAME\nUNIQUE (FORMALNAME);\n\n-------------------------------------------------------\n--ERROR HANDLING\n-------------------------------------------------------\nWITH CTE AS (\n    SELECT \n        COUNTRYNAME,\n        FORMALNAME,\n        CONTINENT,\n        REGION,\n        SUBREGION,\n        COUNTRYID,\n        LATESTRECORDEDPOPULATION,\n        LAG(COUNTRYID) OVER (ORDER BY COUNTRYID) AS prev_countryid,\n        ROW_NUMBER() OVER (ORDER BY COUNTRYID) AS row_num\n    FROM KN_LOGISTICS.SNOWSQL.APPLICATION_COUNTRIES_SEA\n)\nSELECT \n    COUNTRYNAME,\n    FORMALNAME,\n    CONTINENT,\n    REGION,\n    SUBREGION,\n    CASE\n        WHEN COUNTRYID IS NULL THEN prev_countryid + 1\n        ELSE COUNTRYID\n    END AS COUNTRYID,\n    LATESTRECORDEDPOPULATION\nFROM CTE\nORDER BY row_num;\n\n-------------------------------------------------------\n--Adding of foreign key to table\n-------------------------------------------------------\n--THERE ARE NO FOREIGN KEYS FOR THIS TABLE\n",
   "execution_count": null
  },
  {
   "cell_type": "markdown",
   "id": "51c96d15-e350-4229-b3a7-ababc52badff",
   "metadata": {
    "name": "cell13",
    "collapsed": false,
    "resultHeight": 47
   },
   "source": "#### Cleaning APPLICATION_DELIVERYMETHODS"
  },
  {
   "cell_type": "code",
   "id": "291b6323-68a2-41aa-8cb1-65d8193d6933",
   "metadata": {
    "language": "sql",
    "name": "cell14",
    "collapsed": true,
    "codeCollapsed": true
   },
   "outputs": [],
   "source": "-- Create a clean table with the same structure as the raw table but we pull data from the raw table into this table (final table)\nCREATE OR REPLACE TABLE KN_LOGISTICS.SNOWSQL.APPLICATION_DELIVERYMETHODS AS\nSELECT\n  CAST(CASE WHEN DELIVERYMETHODID = 'NULL' THEN NULL ELSE DELIVERYMETHODID END AS VARCHAR(38)) AS DELIVERYMETHODID,\n  CAST(CASE WHEN DELIVERYMETHODNAME = 'NULL' THEN NULL ELSE DELIVERYMETHODNAME END AS VARCHAR(50)) AS DELIVERYMETHODNAME\nFROM KN_LOGISTICS.SNOWSQL.APPLICATION_DELIVERYMETHODS_RAW;\n\n-- ADD A NEW DELIVERYMETHOD for those without a delivery method\nINSERT INTO KN_LOGISTICS.SNOWSQL.APPLICATION_DELIVERYMETHODS (DELIVERYMETHODID, DELIVERYMETHODNAME)\nVALUES\n    (11, 'None');\n\n-- Total Number of Null values in string 'NULL' for all columns\nSELECT COUNT(*) FROM KN_LOGISTICS.SNOWSQL.APPLICATION_DELIVERYMETHODS\nWHERE DELIVERYMETHODID IS NULL\nOR DELIVERYMETHODNAME IS NULL;\n    \n-- Null value checks for all columns (only numeric data type columns)\nSELECT \n    COUNT(CASE WHEN DELIVERYMETHODID IS NULL THEN 1 END) AS count_DELIVERYMETHODID_NULL,\n    COUNT(CASE WHEN DELIVERYMETHODNAME IS NULL THEN 1 END) AS count_DELIVERYMETHODNAME_NULL\nFROM KN_LOGISTICS.SNOWSQL.APPLICATION_DELIVERYMETHODS;\n\n\n--DELIVERYMETHODID\nALTER TABLE KN_LOGISTICS.SNOWSQL.APPLICATION_DELIVERYMETHODS\nADD COLUMN DELIVERYMETHODID_NUM NUMBER(38,0);\n\nUPDATE KN_LOGISTICS.SNOWSQL.APPLICATION_DELIVERYMETHODS\nSET DELIVERYMETHODID_NUM = TO_NUMBER(DELIVERYMETHODID);\n\nSELECT DELIVERYMETHODID, DELIVERYMETHODID_NUM\nFROM KN_LOGISTICS.SNOWSQL.APPLICATION_DELIVERYMETHODS;\n\nALTER TABLE KN_LOGISTICS.SNOWSQL.APPLICATION_DELIVERYMETHODS\nDROP COLUMN DELIVERYMETHODID;\n\nALTER TABLE KN_LOGISTICS.SNOWSQL.APPLICATION_DELIVERYMETHODS\nRENAME COLUMN DELIVERYMETHODID_NUM TO DELIVERYMETHODID;\n\n--check the number of rows of DELIVERYMETHODID = 1(random DELIVERYMETHODID from data), cross checked with excel sheet\nSELECT COUNT(*) AS row_count\nFROM KN_LOGISTICS.SNOWSQL.APPLICATION_DELIVERYMETHODS\nWHERE DELIVERYMETHODID = 1;\n\n\n-- primary key\nALTER TABLE KN_LOGISTICS.SNOWSQL.APPLICATION_DELIVERYMETHODS\nADD CONSTRAINT PK_APPLICATION_DELIVERYMETHODS_DELIVERYMETHODID\nPRIMARY KEY (DELIVERYMETHODID);\n\n-- unique key\nALTER TABLE KN_LOGISTICS.SNOWSQL.APPLICATION_DELIVERYMETHODS\nADD CONSTRAINT UK_APPLICATION_DELIVERYMETHODS_DELIVERYMETHODNAME\nUNIQUE (DELIVERYMETHODNAME);\n\n-- null error handling for primary key (increment 1 to impute null value primary keys from the previous record)\nWITH CTE AS (\n    SELECT \n        DELIVERYMETHODID,\n        DELIVERYMETHODNAME,\n        LAG(DELIVERYMETHODID) OVER (ORDER BY DELIVERYMETHODID) AS prev_DELIVERYMETHODID,\n        ROW_NUMBER() OVER (ORDER BY DELIVERYMETHODID) AS row_num\n    FROM KN_LOGISTICS.SNOWSQL.APPLICATION_DELIVERYMETHODS\n)\nSELECT \n        DELIVERYMETHODNAME,\n    CASE\n        WHEN DELIVERYMETHODID IS NULL THEN prev_DELIVERYMETHODID + 1\n        ELSE DELIVERYMETHODID\n    END AS DELIVERYMETHODID\nFROM CTE\nORDER BY row_num;\n\n\n-- foreign keys\nALTER TABLE KN_LOGISTICS.SNOWSQL.SALES_CUSTOMERS\nADD CONSTRAINT FK_Sales_Customers_DeliveryMethodID_Application_DeliveryMethods\nFOREIGN KEY (DeliveryMethodID)\nREFERENCES KN_LOGISTICS.SNOWSQL.APPLICATION_DELIVERYMETHODS(DeliveryMethodID);\n\nALTER TABLE KN_LOGISTICS.SNOWSQL.Purchasing_Suppliers\nADD CONSTRAINT FK_Purchasing_Suppliers_DeliveryMethodID_Application_DeliveryMethods\nFOREIGN KEY (DELIVERYMETHODID)\nREFERENCES KN_LOGISTICS.SNOWSQL.APPLICATION_DELIVERYMETHODS(DeliveryMethodID);\n\nALTER TABLE KN_LOGISTICS.SNOWSQL.Sales_Invoices\nADD CONSTRAINT FK_Sales_Invoices_DeliveryMethodID_Application_DeliveryMethods\nFOREIGN KEY (DELIVERYMETHODID)\nREFERENCES KN_LOGISTICS.SNOWSQL.APPLICATION_DELIVERYMETHODS(DeliveryMethodID);\n\nALTER TABLE KN_LOGISTICS.SNOWSQL.Purchasing_PurchaseOrders\nADD CONSTRAINT FK_Purchasing_PurchaseOrders_DeliveryMethodID_Application_DeliveryMethods\nFOREIGN KEY (DELIVERYMETHODID)\nREFERENCES KN_LOGISTICS.SNOWSQL.APPLICATION_DELIVERYMETHODS(DeliveryMethodID);",
   "execution_count": null
  },
  {
   "cell_type": "markdown",
   "id": "2b4af8d1-c621-42d8-9c2d-7ba1cf0aac41",
   "metadata": {
    "name": "cell15",
    "collapsed": false,
    "resultHeight": 47
   },
   "source": "#### Cleaning APPLICATION_PAYMENTMETHODS"
  },
  {
   "cell_type": "code",
   "id": "cc246588-281e-4582-a237-7f610f10d37a",
   "metadata": {
    "language": "sql",
    "name": "cell16",
    "collapsed": false,
    "codeCollapsed": false
   },
   "outputs": [],
   "source": "-- Create a clean table with the same structure as the raw table\nCREATE OR REPLACE TABLE KN_LOGISTICS.SNOWSQL.APPLICATION_PAYMENTMETHODS AS\nSELECT\n  CAST(CASE WHEN PAYMENTMETHODID = 'NULL' THEN NULL ELSE PAYMENTMETHODID END AS VARCHAR(38)) AS PAYMENTMETHODID,\n  CAST(CASE WHEN PAYMENTMETHODNAME = 'NULL' THEN NULL ELSE PAYMENTMETHODNAME END AS VARCHAR(50)) AS PAYMENTMETHODNAME\nFROM KN_LOGISTICS.SNOWSQL.APPLICATION_PAYMENTMETHODS_RAW;\n\n-- Verify the clean table\nSELECT *\nFROM KN_LOGISTICS.SNOWSQL.APPLICATION_PAYMENTMETHODS;\n\n\n---------------------------------------------\n-- Data type conversion (to number)\n---------------------------------------------\nALTER TABLE KN_LOGISTICS.SNOWSQL.APPLICATION_PAYMENTMETHODS\nADD COLUMN PAYMENTMETHODID_NUM NUMBER(38,0);\n\nUPDATE KN_LOGISTICS.SNOWSQL.APPLICATION_PAYMENTMETHODS\nSET PAYMENTMETHODID_NUM = TO_NUMBER(PAYMENTMETHODID);\n\nSELECT PAYMENTMETHODID, PAYMENTMETHODID_NUM\nFROM KN_LOGISTICS.SNOWSQL.APPLICATION_PAYMENTMETHODS;\n\nALTER TABLE KN_LOGISTICS.SNOWSQL.APPLICATION_PAYMENTMETHODS\nDROP COLUMN PAYMENTMETHODID;\n\nALTER TABLE KN_LOGISTICS.SNOWSQL.APPLICATION_PAYMENTMETHODS\nRENAME COLUMN PAYMENTMETHODID_NUM TO PAYMENTMETHODID;\n\n\n---------------------------------------------\n---Adding of primary key to table\n---------------------------------------------\nALTER TABLE KN_LOGISTICS.SNOWSQL.APPLICATION_PAYMENTMETHODS\nADD CONSTRAINT PK_APPLICATION_PAYMENTMETHODS_PAYMENTMETHODID\nPRIMARY KEY (PAYMENTMETHODID);\n\n\n----------------------------------------------\n--Adding of unique key to table\n----------------------------------------------\nALTER TABLE KN_LOGISTICS.SNOWSQL.APPLICATION_PAYMENTMETHODS\nADD CONSTRAINT UK_APPLICATION_PAYMENTMETHODS_PAYMENTMETHODNAME\nUNIQUE (PAYMENTMETHODNAME);\n\n-------------------------------------------------------\n--ERROR HANDLING \n-------------------------------------------------------\nWITH CTE AS (\n    SELECT \n        PAYMENTMETHODID,\n        PAYMENTMETHODNAME,\n        LAG(PAYMENTMETHODID) OVER (ORDER BY PAYMENTMETHODID) AS prev_paymentmethodid,\n        ROW_NUMBER() OVER (ORDER BY PAYMENTMETHODID) AS row_num\n    FROM KN_LOGISTICS.SNOWSQL.APPLICATION_PAYMENTMETHODS\n)\nSELECT \n    PAYMENTMETHODNAME,\n    CASE\n        WHEN PAYMENTMETHODID IS NULL THEN prev_paymentmethodid + 1\n        ELSE PAYMENTMETHODID\n    END AS PAYMENTMETHODID\nFROM CTE\nORDER BY row_num;\n\n\n-------------------------------------------------------\n--Adding of foreign key to table\n-------------------------------------------------------\n--THERE ARE NO FOREIGN KEYS IN THIS TABLE\n\n\n",
   "execution_count": null
  },
  {
   "cell_type": "markdown",
   "id": "3b790e1f-020f-4870-907f-65e693eacc83",
   "metadata": {
    "name": "cell20",
    "collapsed": false,
    "resultHeight": 47
   },
   "source": "#### Cleaning APPLICATION_TRANSACTIONTYPES"
  },
  {
   "cell_type": "code",
   "id": "17c344d4-a744-49e3-8e10-b5538930ac3a",
   "metadata": {
    "language": "sql",
    "name": "cell17",
    "collapsed": false,
    "codeCollapsed": true
   },
   "outputs": [],
   "source": "-- Create a clean table with the same structure as the raw table\nCREATE OR REPLACE TABLE KN_LOGISTICS.SNOWSQL.APPLICATION_TRANSACTIONTYPES AS\nSELECT\n  CAST(CASE WHEN TRANSACTIONTYPEID = 'NULL' THEN NULL ELSE TRANSACTIONTYPEID END AS VARCHAR(38)) AS TRANSACTIONTYPEID,\n  CAST(CASE WHEN TRANSACTIONTYPENAME = 'NULL' THEN NULL ELSE TRANSACTIONTYPENAME END AS VARCHAR(50)) AS TRANSACTIONTYPENAME\nFROM KN_LOGISTICS.SNOWSQL.APPLICATION_TRANSACTIONTYPES_RAW;\n\n-- Verify the clean table\nSELECT *\nFROM KN_LOGISTICS.SNOWSQL.APPLICATION_TRANSACTIONTYPES;\n\n---------------------------------------------\n// Data type conversion (to number): TRANSACTIONTYPEID\n---------------------------------------------\n// TRANSACTIONTYPEID\nALTER TABLE KN_LOGISTICS.SNOWSQL.APPLICATION_TRANSACTIONTYPES\nADD COLUMN TRANSACTIONTYPEID_NUM NUMBER(38,0);\n\nUPDATE KN_LOGISTICS.SNOWSQL.APPLICATION_TRANSACTIONTYPES\nSET TRANSACTIONTYPEID_NUM = TO_NUMBER(TRANSACTIONTYPEID);\n\nSELECT TRANSACTIONTYPEID, TRANSACTIONTYPEID_NUM\nFROM KN_LOGISTICS.SNOWSQL.APPLICATION_TRANSACTIONTYPES;\n\nALTER TABLE KN_LOGISTICS.SNOWSQL.APPLICATION_TRANSACTIONTYPES\nDROP COLUMN TRANSACTIONTYPEID;\n\nALTER TABLE KN_LOGISTICS.SNOWSQL.APPLICATION_TRANSACTIONTYPES\nRENAME COLUMN TRANSACTIONTYPEID_NUM TO TRANSACTIONTYPEID;\n// Check 10 rows of SUPPLIERID after updating the data type\nSELECT TRANSACTIONTYPEID FROM KN_LOGISTICS.SNOWSQL.APPLICATION_TRANSACTIONTYPES LIMIT 10;\n\n// Check 10 rows of the whole table after updating the data type\nSELECT * FROM KN_LOGISTICS.SNOWSQL.APPLICATION_TRANSACTIONTYPES;\n\n---------------------------------------------------------------\n--Adding of primary key to table\n---------------------------------------------------------------\nALTER TABLE KN_LOGISTICS.SNOWSQL.APPLICATION_TRANSACTIONTYPES\nADD CONSTRAINT PK_APPLICATION_TRANSACTIONTYPES_TRANSACTIONTYPEID\nPRIMARY KEY (TRANSACTIONTYPEID);\n\n----------------------------------------------------------------\n--Adding of unique key to table\n----------------------------------------------------------------\nALTER TABLE KN_LOGISTICS.SNOWSQL.APPLICATION_TRANSACTIONTYPES\nADD CONSTRAINT UK_APPLICATION_TRANSACTIONTYPES_TRANSACTIONTYPENAME\nUNIQUE (TRANSACTIONTYPENAME);\n\n-------------------------------------------------------\n-- ERROR HANDLING\n-------------------------------------------------------\nWITH CTE AS (\n    SELECT \n        TRANSACTIONTYPEID,\n        TRANSACTIONTYPENAME,\n        LAG(TRANSACTIONTYPEID) OVER (ORDER BY TRANSACTIONTYPEID) AS prev_transactiontypeid,\n        ROW_NUMBER() OVER (ORDER BY TRANSACTIONTYPEID) AS row_num\n    FROM KN_LOGISTICS.SNOWSQL.APPLICATION_TRANSACTIONTYPES\n)\nSELECT \n    TRANSACTIONTYPENAME,\n    CASE\n        WHEN TRANSACTIONTYPEID IS NULL THEN prev_transactiontypeid + 1\n        ELSE TRANSACTIONTYPEID\n    END AS TRANSACTIONTYPEID\nFROM CTE\nORDER BY row_num;\n\n\n\n-------------------------------------------------------\n--Adding of foreign key to table\n-------------------------------------------------------\n-- THERE IS NO FOREIGN KEY IN THIS TABLE\n",
   "execution_count": null
  },
  {
   "cell_type": "markdown",
   "id": "b109048e-834a-4441-b566-ce2c0da2bf2a",
   "metadata": {
    "name": "cell21",
    "collapsed": false,
    "resultHeight": 47
   },
   "source": "#### Cleaning PURCHASING_SUPPLIERCATEGORIES"
  },
  {
   "cell_type": "code",
   "id": "b8b99645-4542-423e-9e6d-f40c2718f136",
   "metadata": {
    "language": "sql",
    "name": "cell22",
    "collapsed": false,
    "codeCollapsed": true
   },
   "outputs": [],
   "source": "-- Create a clean table with the same structure as the raw table\nCREATE OR REPLACE TABLE KN_LOGISTICS.SNOWSQL.PURCHASING_SUPPLIERCATEGORIES AS\nSELECT\n  CAST(CASE WHEN SUPPLIERCATEGORYID = 'NULL' THEN NULL ELSE SUPPLIERCATEGORYID END AS VARCHAR(38)) AS SUPPLIERCATEGORYID,\n  CAST(CASE WHEN SUPPLIERCATEGORYNAME = 'NULL' THEN NULL ELSE SUPPLIERCATEGORYNAME END AS VARCHAR(50)) AS SUPPLIERCATEGORYNAME\nFROM KN_LOGISTICS.SNOWSQL.PURCHASING_SUPPLIERCATEGORIES_RAW;\n\n-- Total Number of Null values for all columns\nSELECT COUNT(*) FROM KN_LOGISTICS.SNOWSQL.PURCHASING_SUPPLIERCATEGORIES\nWHERE SUPPLIERCATEGORYID IS NULL\nOR SUPPLIERCATEGORYNAME IS NULL;\n    \n-- Null value checks for all columns (only numeric/boolean data type columns)\nSELECT \n    COUNT(CASE WHEN SUPPLIERCATEGORYID IS NULL THEN 1 END) AS count_SUPPLIERCATEGORYID_NULL,\n    COUNT(CASE WHEN SUPPLIERCATEGORYNAME IS NULL THEN 1 END) AS count_SUPPLIERCATEGORYNAME_NULL\nFROM KN_LOGISTICS.SNOWSQL.PURCHASING_SUPPLIERCATEGORIES;\n\n\n-- data type conversion (to number) SUPPLIERCATEGORYID \n\nALTER TABLE KN_LOGISTICS.SNOWSQL.PURCHASING_SUPPLIERCATEGORIES\nADD COLUMN SUPPLIERCATEGORYID_NUM NUMBER(38,0);\n\nUPDATE KN_LOGISTICS.SNOWSQL.PURCHASING_SUPPLIERCATEGORIES\nSET SUPPLIERCATEGORYID_NUM = TO_NUMBER(SUPPLIERCATEGORYID);\n\nSELECT SUPPLIERCATEGORYID, SUPPLIERCATEGORYID_NUM\nFROM KN_LOGISTICS.SNOWSQL.PURCHASING_SUPPLIERCATEGORIES;\n\nALTER TABLE KN_LOGISTICS.SNOWSQL.PURCHASING_SUPPLIERCATEGORIES\nDROP COLUMN SUPPLIERCATEGORYID;\n\nALTER TABLE KN_LOGISTICS.SNOWSQL.PURCHASING_SUPPLIERCATEGORIES\nRENAME COLUMN SUPPLIERCATEGORYID_NUM TO SUPPLIERCATEGORYID;\n\n\n-- primary key\nALTER TABLE KN_LOGISTICS.SNOWSQL.PURCHASING_SUPPLIERCATEGORIES\nADD CONSTRAINT PK_PURCHASING_SUPPLIERCATEGORIES_SUPPLIERCATEGORYID\nPRIMARY KEY (SUPPLIERCATEGORYID);\n\n-- unique key\nALTER TABLE KN_LOGISTICS.SNOWSQL.PURCHASING_SUPPLIERCATEGORIES\nADD CONSTRAINT UK_PURCHASING_SUPPLIERCATEGORIES_SUPPLIERCATEGORYNAME\nUNIQUE (SUPPLIERCATEGORYNAME);\n\n\n-- null error handling for primary key (increment 1 to impute null value primary keys from the previous record)\nWITH CTE AS (\n    SELECT\n        SUPPLIERCATEGORYID,\n        SUPPLIERCATEGORYNAME,\n        LAG(SUPPLIERCATEGORYID) OVER (ORDER BY SUPPLIERCATEGORYID) AS prev_SUPPLIERCATEGORYID,\n        ROW_NUMBER() OVER (ORDER BY SUPPLIERCATEGORYID) AS row_num\n    FROM KN_LOGISTICS.SNOWSQL.PURCHASING_SUPPLIERCATEGORIES\n)\nSELECT \n    SUPPLIERCATEGORYNAME,\n    CASE\n        WHEN SUPPLIERCATEGORYID IS NULL THEN prev_SUPPLIERCATEGORYID + 1\n        ELSE SUPPLIERCATEGORYID\n    END AS SUPPLIERCATEGORYID\nFROM CTE\nORDER BY row_num;\n\n-- foreign key\nALTER TABLE KN_LOGISTICS.SNOWSQL.PURCHASING_Suppliers\nADD CONSTRAINT FK_Purchasing_Suppliers_SupplierCategoryID_Purchasing_SupplierCategories\nFOREIGN KEY (SupplierCategoryID)\nREFERENCES KN_LOGISTICS.SNOWSQL.PURCHASING_SUPPLIERCATEGORIES(SupplierCategoryID);",
   "execution_count": null
  },
  {
   "cell_type": "markdown",
   "id": "2ae53580-a741-4978-9a17-875903577144",
   "metadata": {
    "name": "cell23",
    "collapsed": false,
    "resultHeight": 47
   },
   "source": "#### Cleaning PURCHASING_SUPPLIERS"
  },
  {
   "cell_type": "code",
   "id": "89d6e3dd-2800-4b5d-b450-399a6cd08497",
   "metadata": {
    "language": "sql",
    "name": "cell24",
    "collapsed": false,
    "codeCollapsed": true
   },
   "outputs": [],
   "source": "-- Create a clean table with the same structure as the raw table\nCREATE OR REPLACE TABLE KN_LOGISTICS.SNOWSQL.PURCHASING_SUPPLIERS AS\nSELECT\n  CAST(CASE WHEN SUPPLIERID = 'NULL' THEN NULL ELSE SUPPLIERID END AS VARCHAR(38)) AS SUPPLIERID,\n  CAST(CASE WHEN SUPPLIERNAME = 'NULL' THEN NULL ELSE SUPPLIERNAME END AS VARCHAR(100)) AS SUPPLIERNAME,\n  CAST(CASE WHEN SUPPLIERCATEGORYID = 'NULL' THEN NULL ELSE SUPPLIERCATEGORYID END AS VARCHAR(38)) AS SUPPLIERCATEGORYID,\n  CAST(CASE WHEN PRIMARYCONTACTPERSONID = 'NULL' THEN NULL ELSE PRIMARYCONTACTPERSONID END AS VARCHAR(38)) AS PRIMARYCONTACTPERSONID,\n  CAST(CASE WHEN ALTERNATECONTACTPERSONID = 'NULL' THEN NULL ELSE ALTERNATECONTACTPERSONID END AS VARCHAR(38)) AS ALTERNATECONTACTPERSONID,\n  CAST(CASE WHEN DELIVERYMETHODID = 'NULL' THEN NULL ELSE DELIVERYMETHODID END AS VARCHAR(38)) AS DELIVERYMETHODID,\n  CAST(CASE WHEN DELIVERYCITYID = 'NULL' THEN NULL ELSE DELIVERYCITYID END AS VARCHAR(38)) AS DELIVERYCITYID,\n  CAST(CASE WHEN POSTALCITYID = 'NULL' THEN NULL ELSE POSTALCITYID END AS VARCHAR(38)) AS POSTALCITYID,\n  CAST(CASE WHEN SUPPLIERREFERENCE = 'NULL' THEN NULL ELSE SUPPLIERREFERENCE END AS VARCHAR(20)) AS SUPPLIERREFERENCE,\n  CAST(CASE WHEN PAYMENTDAYS = 'NULL' THEN NULL ELSE PAYMENTDAYS END AS VARCHAR(38)) AS PAYMENTDAYS,\n  CAST(CASE WHEN PHONENUMBER = 'NULL' THEN NULL ELSE PHONENUMBER END AS VARCHAR(20)) AS PHONENUMBER,\n  CAST(CASE WHEN WEBSITEURL = 'NULL' THEN NULL ELSE WEBSITEURL END AS VARCHAR(256)) AS WEBSITEURL,\n  CAST(CASE WHEN DELIVERYADDRESSLINE = 'NULL' THEN NULL ELSE DELIVERYADDRESSLINE END AS VARCHAR(60)) AS DELIVERYADDRESSLINE,\n  CAST(CASE WHEN DELIVERYLOCATIONLAT = 'NULL' THEN NULL ELSE DELIVERYLOCATIONLAT END AS VARCHAR(60)) AS DELIVERYLOCATIONLAT,\n  CAST(CASE WHEN DELIVERYLOCATIONLONG = 'NULL' THEN NULL ELSE DELIVERYLOCATIONLONG END AS VARCHAR(60)) AS DELIVERYLOCATIONLONG\nFROM KN_LOGISTICS.SNOWSQL.PURCHASING_SUPPLIERS_RAW;\n\n-- DROPPING 5 COUMNS - DELIVERYCITYID, POSTALCITYID, DELIVERYADDRESSLINE, DELIVERYLOCATIONLAT\nALTER TABLE KN_LOGISTICS.SNOWSQL.PURCHASING_SUPPLIERS\nDROP COLUMN DELIVERYCITYID, POSTALCITYID, DELIVERYADDRESSLINE, DELIVERYLOCATIONLAT, DELIVERYLOCATIONLONG;\n\n---------------------------------------------\n-- data type conversion (to number)\n---------------------------------------------\nALTER TABLE KN_LOGISTICS.SNOWSQL.PURCHASING_SUPPLIERS\nADD COLUMN SUPPLIERID_NUM NUMBER(38,0);\n\nUPDATE KN_LOGISTICS.SNOWSQL.PURCHASING_SUPPLIERS\nSET SUPPLIERID_NUM = TO_NUMBER(SUPPLIERID);\n\nSELECT SUPPLIERID, SUPPLIERID_NUM\nFROM KN_LOGISTICS.SNOWSQL.PURCHASING_SUPPLIERS;\n\nALTER TABLE KN_LOGISTICS.SNOWSQL.PURCHASING_SUPPLIERS\nDROP COLUMN SUPPLIERID;\n\nALTER TABLE KN_LOGISTICS.SNOWSQL.PURCHASING_SUPPLIERS\nRENAME COLUMN SUPPLIERID_NUM TO SUPPLIERID;\n\n\n---------------------------------------------\n-- data type conversion (to number)\n---------------------------------------------\nALTER TABLE KN_LOGISTICS.SNOWSQL.PURCHASING_SUPPLIERS\nADD COLUMN DELIVERYMETHODID_NUM NUMBER(38,0);\n\nUPDATE KN_LOGISTICS.SNOWSQL.PURCHASING_SUPPLIERS\nSET DELIVERYMETHODID_NUM = TO_NUMBER(DELIVERYMETHODID);\n\nSELECT DELIVERYMETHODID, DELIVERYMETHODID_NUM\nFROM KN_LOGISTICS.SNOWSQL.PURCHASING_SUPPLIERS;\n\nALTER TABLE KN_LOGISTICS.SNOWSQL.PURCHASING_SUPPLIERS\nDROP COLUMN DELIVERYMETHODID;\n\nALTER TABLE KN_LOGISTICS.SNOWSQL.PURCHASING_SUPPLIERS\nRENAME COLUMN DELIVERYMETHODID_NUM TO DELIVERYMETHODID;\n\n--------------------------------------------------\n-- data type conversion (to number) SUPPLIERCATEGORYID \n--------------------------------------------------\n\nALTER TABLE KN_LOGISTICS.SNOWSQL.PURCHASING_SUPPLIERS\nADD COLUMN SUPPLIERCATEGORYID_NUM NUMBER(38,0);\n\nUPDATE KN_LOGISTICS.SNOWSQL.PURCHASING_SUPPLIERS\nSET SUPPLIERCATEGORYID_NUM = TO_NUMBER(SUPPLIERCATEGORYID);\n\nSELECT SUPPLIERCATEGORYID, SUPPLIERCATEGORYID_NUM\nFROM KN_LOGISTICS.SNOWSQL.PURCHASING_SUPPLIERS;\n\nALTER TABLE KN_LOGISTICS.SNOWSQL.PURCHASING_SUPPLIERS\nDROP COLUMN SUPPLIERCATEGORYID;\n\nALTER TABLE KN_LOGISTICS.SNOWSQL.PURCHASING_SUPPLIERS\nRENAME COLUMN SUPPLIERCATEGORYID_NUM TO SUPPLIERCATEGORYID;\n\n--------------------------------------------------\n-- data type conversion (to number) PAYMENTDAYS \n--------------------------------------------------\n\nALTER TABLE KN_LOGISTICS.SNOWSQL.PURCHASING_SUPPLIERS\nADD COLUMN PAYMENTDAYS_NUM NUMBER(38,0);\n\nUPDATE KN_LOGISTICS.SNOWSQL.PURCHASING_SUPPLIERS\nSET PAYMENTDAYS_NUM = TO_NUMBER(PAYMENTDAYS);\n\nSELECT PAYMENTDAYS, PAYMENTDAYS_NUM\nFROM KN_LOGISTICS.SNOWSQL.PURCHASING_SUPPLIERS;\n\nALTER TABLE KN_LOGISTICS.SNOWSQL.PURCHASING_SUPPLIERS\nDROP COLUMN PAYMENTDAYS;\n\nALTER TABLE KN_LOGISTICS.SNOWSQL.PURCHASING_SUPPLIERS\nRENAME COLUMN PAYMENTDAYS_NUM TO PAYMENTDAYS;\n\n--------------------------------------------------\n-- data type conversion (to number) PRIMARYCONTACTPERSONID \n--------------------------------------------------\n\nALTER TABLE KN_LOGISTICS.SNOWSQL.PURCHASING_SUPPLIERS\nADD COLUMN PRIMARYCONTACTPERSONID_NUM NUMBER(38,0);\n\nUPDATE KN_LOGISTICS.SNOWSQL.PURCHASING_SUPPLIERS\nSET PRIMARYCONTACTPERSONID_NUM = TO_NUMBER(PRIMARYCONTACTPERSONID);\n\nSELECT PRIMARYCONTACTPERSONID, PRIMARYCONTACTPERSONID_NUM\nFROM KN_LOGISTICS.SNOWSQL.PURCHASING_SUPPLIERS;\n\nALTER TABLE KN_LOGISTICS.SNOWSQL.PURCHASING_SUPPLIERS\nDROP COLUMN PRIMARYCONTACTPERSONID;\n\nALTER TABLE KN_LOGISTICS.SNOWSQL.PURCHASING_SUPPLIERS\nRENAME COLUMN PRIMARYCONTACTPERSONID_NUM TO PRIMARYCONTACTPERSONID;\n\n\n--------------------------------------------------\n-- data type conversion (to number) ALTERNATECONTACTPERSONID \n--------------------------------------------------\n\nALTER TABLE KN_LOGISTICS.SNOWSQL.PURCHASING_SUPPLIERS\nADD COLUMN ALTERNATECONTACTPERSONID_NUM NUMBER(38,0);\n\nUPDATE KN_LOGISTICS.SNOWSQL.PURCHASING_SUPPLIERS\nSET ALTERNATECONTACTPERSONID_NUM = TO_NUMBER(ALTERNATECONTACTPERSONID);\n\nSELECT ALTERNATECONTACTPERSONID, ALTERNATECONTACTPERSONID_NUM\nFROM KN_LOGISTICS.SNOWSQL.PURCHASING_SUPPLIERS;\n\nALTER TABLE KN_LOGISTICS.SNOWSQL.PURCHASING_SUPPLIERS\nDROP COLUMN ALTERNATECONTACTPERSONID;\n\nALTER TABLE KN_LOGISTICS.SNOWSQL.PURCHASING_SUPPLIERS\nRENAME COLUMN ALTERNATECONTACTPERSONID_NUM TO ALTERNATECONTACTPERSONID;\n\n-- Check 10 rows of SUPPLIERID after updating the data type\nSELECT ALTERNATECONTACTPERSONID FROM KN_LOGISTICS.SNOWSQL.PURCHASING_SUPPLIERS LIMIT 10;\n\n\n-- primary keys\nALTER TABLE KN_LOGISTICS.SNOWSQL.PURCHASING_SUPPLIERS\nADD CONSTRAINT PK_PURCHASING_SUPPLIERS_SUPPLIERID\nPRIMARY KEY (SUPPLIERID);\n\n-- unique keys\nALTER TABLE KN_LOGISTICS.SNOWSQL.PURCHASING_SUPPLIERS\nADD CONSTRAINT UK_PURCHASING_SUPPLIERS_SUPPLIERNAME\nUNIQUE (SUPPLIERNAME);\n\n\n-- null error handling for primary key (increment 1 to impute null value primary keys from the previous record)\nWITH CTE AS (\n    SELECT\n        SUPPLIERID, \n        SUPPLIERNAME,\n        SUPPLIERREFERENCE,\n        PHONENUMBER,\n        WEBSITEURL,\n        DELIVERYMETHODID,\n        SUPPLIERCATEGORYID,\n        PAYMENTDAYS,\n        PRIMARYCONTACTPERSONID,\n        ALTERNATECONTACTPERSONID,\n        LAG(SUPPLIERID) OVER (ORDER BY SUPPLIERID) AS prev_SUPPLIERID,\n        ROW_NUMBER() OVER (ORDER BY SUPPLIERID) AS row_num\n    FROM KN_LOGISTICS.SNOWSQL.PURCHASING_SUPPLIERS\n)\nSELECT \n        SUPPLIERNAME,\n        SUPPLIERREFERENCE,\n        PHONENUMBER,\n        WEBSITEURL,\n        DELIVERYMETHODID,\n        SUPPLIERCATEGORYID,\n        PAYMENTDAYS,\n        PRIMARYCONTACTPERSONID,\n        ALTERNATECONTACTPERSONID,\n    CASE\n        WHEN SUPPLIERID IS NULL THEN prev_SUPPLIERID + 1\n        ELSE SUPPLIERID\n    END AS SUPPLIERID\nFROM CTE\nORDER BY row_num;\n\n\n-- Foreign Key Constraints for Purchasing.Suppliers\nALTER TABLE KN_LOGISTICS.SNOWSQL.Purchasing_Suppliers\nADD CONSTRAINT FK_Purchasing_Suppliers_DeliveryMethodID_Application_DeliveryMethods\nFOREIGN KEY (DeliveryMethodID)\nREFERENCES KN_LOGISTICS.SNOWSQL.Application_DeliveryMethods(DeliveryMethodID);\n\nALTER TABLE KN_LOGISTICS.SNOWSQL.Purchasing_Suppliers\nADD CONSTRAINT FK_Purchasing_Suppliers_AlternateContactPersonID_Application_People\nFOREIGN KEY (AlternateContactPersonID)\nREFERENCES KN_LOGISTICS.SNOWSQL.Application_People(PersonID);\n\nALTER TABLE KN_LOGISTICS.SNOWSQL.Purchasing_Suppliers\nADD CONSTRAINT FK_Purchasing_Suppliers_PrimaryContactPersonID_Application_People\nFOREIGN KEY (PrimaryContactPersonID)\nREFERENCES KN_LOGISTICS.SNOWSQL.Application_People(PersonID);\n\nALTER TABLE KN_LOGISTICS.SNOWSQL.Purchasing_Suppliers\nADD CONSTRAINT FK_Purchasing_Suppliers_SupplierCategoryID_Purchasing_SupplierCategories\nFOREIGN KEY (SupplierCategoryID)\nREFERENCES KN_LOGISTICS.SNOWSQL.Purchasing_SupplierCategories(SupplierCategoryID);\n\nALTER TABLE KN_LOGISTICS.SNOWSQL.Warehouse_StockItems\nADD CONSTRAINT FK_Warehouse_StockItems_SupplierID_Purchasing_Suppliers\nFOREIGN KEY (SupplierID)\nREFERENCES KN_LOGISTICS.SNOWSQL.Purchasing_Suppliers(SupplierID);\n\nALTER TABLE KN_LOGISTICS.SNOWSQL.Purchasing_SupplierTransactions\nADD CONSTRAINT FK_Purchasing_SupplierTransactions_SupplierID_Purchasing_Suppliers\nFOREIGN KEY (SupplierID)\nREFERENCES KN_LOGISTICS.SNOWSQL.Purchasing_Suppliers(SupplierID);\n\nALTER TABLE KN_LOGISTICS.SNOWSQL.Purchasing_PurchaseOrders\nADD CONSTRAINT FK_Purchasing_PurchaseOrders_SupplierID_Purchasing_Suppliers\nFOREIGN KEY (SupplierID)\nREFERENCES KN_LOGISTICS.SNOWSQL.Purchasing_Suppliers(SupplierID);\n\nALTER TABLE KN_LOGISTICS.SNOWSQL.Warehouse_StockItemTransactions\nADD CONSTRAINT FK_Warehouse_StockItemTransactions_SupplierID_Purchasing_Suppliers\nFOREIGN KEY (SupplierID)\nREFERENCES KN_LOGISTICS.SNOWSQL.Purchasing_Suppliers(SupplierID);",
   "execution_count": null
  },
  {
   "cell_type": "markdown",
   "id": "8b4971e6-c346-42b4-84b6-7d00cbac4c8d",
   "metadata": {
    "name": "cell25",
    "collapsed": false,
    "resultHeight": 47
   },
   "source": "#### Cleaning SALES_BUYINGGROUPS"
  },
  {
   "cell_type": "code",
   "id": "52bcfbe4-6bc7-4fa6-af38-0746e448bb2f",
   "metadata": {
    "language": "sql",
    "name": "cell26",
    "collapsed": false,
    "codeCollapsed": true
   },
   "outputs": [],
   "source": "-- Create a clean table with the same structure as the raw table\nCREATE OR REPLACE TABLE KN_LOGISTICS.SNOWSQL.SALES_BUYINGGROUPS AS\nSELECT\n  CAST(CASE WHEN BUYINGGROUPID = 'NULL' THEN NULL ELSE BUYINGGROUPID END AS VARCHAR(38)) AS BUYINGGROUPID,\n  CAST(CASE WHEN BUYINGGROUPNAME = 'NULL' THEN NULL ELSE BUYINGGROUPNAME END AS VARCHAR(50)) AS BUYINGGROUPNAME\nFROM KN_LOGISTICS.SNOWSQL.SALES_BUYINGGROUPS_RAW;\n\n\n-- Verify the clean table\nSELECT *\nFROM KN_LOGISTICS.SNOWSQL.SALES_BUYINGGROUPS;\n\n----------------------------------------\n--Converting of datatype\n----------------------------------------\n\n---------------------BUYINGGROUPID------------------------\n-- Step 1: Add a new column with DECIMAL data type\nALTER TABLE KN_LOGISTICS.SNOWSQL.SALES_BUYINGGROUPS\nADD COLUMN BUYINGGROUPID_NUMBER NUMBER(38,0);\n\n-- Step 2: Populate the new column with converted values\nUPDATE KN_LOGISTICS.SNOWSQL.SALES_BUYINGGROUPS\nSET BUYINGGROUPID_NUMBER = CAST(BUYINGGROUPID AS NUMBER(38,0));\n\n-- Step 3: Verify the conversion\nSELECT BUYINGGROUPID_NUMBER, BUYINGGROUPID\nFROM KN_LOGISTICS.SNOWSQL.SALES_BUYINGGROUPS\nLIMIT 10;\n\n-- Step 4: Drop the old column\nALTER TABLE KN_LOGISTICS.SNOWSQL.SALES_BUYINGGROUPS\nDROP COLUMN BUYINGGROUPID;\n\n-- Step 5: Rename the new column to the original column name\nALTER TABLE KN_LOGISTICS.SNOWSQL.SALES_BUYINGGROUPS\nRENAME COLUMN BUYINGGROUPID_NUMBER TO BUYINGGROUPID;\n\n-------------------------------------\n--Adding of primary key to table\n-------------------------------------\nALTER TABLE KN_LOGISTICS.SNOWSQL.SALES_BUYINGGROUPS\nADD CONSTRAINT PK_SALES_BUYINGGROUPS_BUYINGGROUPID\nPRIMARY KEY (BUYINGGROUPID);\n\n\n-------------------------------------\n--Adding of unique key to table\n-------------------------------------\nALTER TABLE KN_LOGISTICS.SNOWSQL.SALES_BUYINGGROUPS\nADD CONSTRAINT UK_SALES_BUYINGGROUPS_BUYINGGROUPNAME\nUNIQUE (BUYINGGROUPNAME);\n\n\n-------------------------------------------------------\n--ERROR HANDLING\n-------------------------------------------------------\nWITH CTE AS (\n    SELECT \n        BUYINGGROUPID,\n        BUYINGGROUPNAME,\n        LAG(BUYINGGROUPID) OVER (ORDER BY BUYINGGROUPID) AS prev_buyinggroupid,\n        ROW_NUMBER() OVER (ORDER BY BUYINGGROUPID) AS row_num\n    FROM KN_LOGISTICS.SNOWSQL.SALES_BUYINGGROUPS\n)\nSELECT\n    BUYINGGROUPNAME,\n    CASE\n        WHEN BUYINGGROUPID IS NULL THEN prev_buyinggroupid + 1\n        ELSE BUYINGGROUPID\n    END AS BUYINGGROUPID\n\nFROM CTE\nORDER BY row_num;\n\n-------------------------------------------------------\n--Adding of foreign key to table\n-------------------------------------------------------\n-- THERE ARE NO FOREIGN KEYS IN THIS TABLE\n",
   "execution_count": null
  },
  {
   "cell_type": "markdown",
   "id": "b382959b-131f-4bbf-b7e1-df2a79fe1a79",
   "metadata": {
    "name": "cell27",
    "collapsed": false,
    "resultHeight": 47
   },
   "source": "#### Cleaning WAREHOUSE_COLORS"
  },
  {
   "cell_type": "code",
   "id": "cd8e6cc9-2fc3-448c-a07c-46e5bc6271b1",
   "metadata": {
    "language": "sql",
    "name": "cell28",
    "collapsed": false,
    "codeCollapsed": true
   },
   "outputs": [],
   "source": "-- Create a clean table with the same structure as the raw table\nCREATE OR REPLACE TABLE KN_LOGISTICS.SNOWSQL.WAREHOUSE_COLORS AS\nSELECT\n  CAST(CASE WHEN COLORID = 'NULL' THEN NULL ELSE COLORID END AS VARCHAR(38)) AS COLORID,\n  CAST(CASE WHEN COLORNAME = 'NULL' THEN NULL ELSE COLORNAME END AS VARCHAR(20)) AS COLORNAME\nFROM KN_LOGISTICS.SNOWSQL.WAREHOUSE_COLORS_RAW;\n\n-- Verify the clean table\nSELECT *\nFROM KN_LOGISTICS.SNOWSQL.WAREHOUSE_COLORS;\n\n-----------------------------------------\n--Conversion of column datatype \n-----------------------------------------\n//COLORID\nALTER TABLE KN_LOGISTICS.SNOWSQL.WAREHOUSE_COLORS\nADD COLUMN COLORID_NUM NUMBER(38,0);\n\nUPDATE KN_LOGISTICS.SNOWSQL.WAREHOUSE_COLORS\nSET COLORID_NUM = CAST(COLORID AS NUMBER(38,0));\n\nSELECT COLORID_NUM, COLORID\nFROM KN_LOGISTICS.SNOWSQL.WAREHOUSE_COLORS;\n\nALTER TABLE KN_LOGISTICS.SNOWSQL.WAREHOUSE_COLORS\nDROP COLUMN COLORID;\n\nALTER TABLE KN_LOGISTICS.SNOWSQL.WAREHOUSE_COLORS\nRENAME COLUMN COLORID_NUM TO COLORID;\n\n-- Select the transformed data for verification\nSELECT \n    COLORID, COLORNAME\nFROM KN_LOGISTICS.SNOWSQL.WAREHOUSE_COLORS\nLIMIT 10;\n\n-----------------------------------\n--Adding of primary key to table\n-----------------------------------\n\nALTER TABLE KN_LOGISTICS.SNOWSQL.WAREHOUSE_COLORS\nADD CONSTRAINT PK_WAREHOUSE_COLORS_COLORID\nPRIMARY KEY (COLORID);\n\n----------------------------------------\n--Adding of unique key to table\n----------------------------------------\nALTER TABLE KN_LOGISTICS.SNOWSQL.WAREHOUSE_COLORS\nADD CONSTRAINT UK_WAREHOUSE_COLORS_COLORNAME\nUNIQUE (COLORNAME);\n\n-------------------------------------------------------\n-- ERROR HANDLING\n-------------------------------------------------------\nWITH CTE AS (\n    SELECT \n        COLORID,\n        COLORNAME,\n        LAG(COLORID) OVER (ORDER BY COLORID) AS prev_colorid,\n        ROW_NUMBER() OVER (ORDER BY COLORID) AS row_num\n    FROM KN_LOGISTICS.SNOWSQL.WAREHOUSE_COLORS\n)\nSELECT \n    COLORNAME,\n    CASE\n        WHEN COLORID IS NULL THEN prev_colorid + 1\n        ELSE COLORID\n    END AS COLORID\nFROM CTE\nORDER BY row_num;\n\n\n-------------------------------------------------------\n--Adding of foreign key to table\n-------------------------------------------------------\n-- THERE ARE NO FOREIGN KEYS IN THIS TABLE\n\n\n",
   "execution_count": null
  },
  {
   "cell_type": "markdown",
   "id": "8862b1f1-869a-4327-baf5-d4f82a25a228",
   "metadata": {
    "name": "cell29",
    "collapsed": false,
    "resultHeight": 47
   },
   "source": "#### Cleaning WAREHOUSE_PACKAGETYPES"
  },
  {
   "cell_type": "code",
   "id": "39ca5009-1719-43be-a4da-1dba0f21f761",
   "metadata": {
    "language": "sql",
    "name": "cell30",
    "collapsed": false,
    "codeCollapsed": true
   },
   "outputs": [],
   "source": "-- Create a clean table with the same structure as the raw table\nCREATE OR REPLACE TABLE KN_LOGISTICS.SNOWSQL.WAREHOUSE_PACKAGETYPES AS\nSELECT\n  CAST(CASE WHEN PACKAGETYPEID = 'NULL' THEN NULL ELSE PACKAGETYPEID END AS VARCHAR(38)) AS PACKAGETYPEID,\n  CAST(CASE WHEN PACKAGETYPENAME = 'NULL' THEN NULL ELSE PACKAGETYPENAME END AS VARCHAR(50)) AS PACKAGETYPENAME\nFROM KN_LOGISTICS.SNOWSQL.WAREHOUSE_PACKAGETYPES_RAW;\n\n-- Verify the clean table\nSELECT *\nFROM KN_LOGISTICS.SNOWSQL.WAREHOUSE_PACKAGETYPES;\n\n--------------------------------------\n--Conversion of datatypes\n--------------------------------------\nALTER TABLE KN_LOGISTICS.SNOWSQL.WAREHOUSE_PACKAGETYPES\nADD COLUMN PACKAGETYPEID_NUM NUMBER(38,0);\n\nUPDATE KN_LOGISTICS.SNOWSQL.WAREHOUSE_PACKAGETYPES\nSET PACKAGETYPEID_NUM = CAST(PACKAGETYPEID AS NUMBER(38,0));\n\nSELECT PACKAGETYPEID_NUM, PACKAGETYPEID\nFROM KN_LOGISTICS.SNOWSQL.WAREHOUSE_PACKAGETYPES;\n\nALTER TABLE KN_LOGISTICS.SNOWSQL.WAREHOUSE_PACKAGETYPES\nDROP COLUMN PACKAGETYPEID;\n\nALTER TABLE KN_LOGISTICS.SNOWSQL.WAREHOUSE_PACKAGETYPES\nRENAME COLUMN PACKAGETYPEID_NUM TO PACKAGETYPEID;\n\nSELECT \n    PACKAGETYPEID, PACKAGETYPENAME\nFROM KN_LOGISTICS.SNOWSQL.WAREHOUSE_PACKAGETYPES\nLIMIT 10;\n\n---------------------------------------\n--Addition of primary key to table\n---------------------------------------\n\nALTER TABLE KN_LOGISTICS.SNOWSQL.WAREHOUSE_PACKAGETYPES\nADD CONSTRAINT PK_WAREHOUSE_PACKAGETYPES_PACKAGETYPEID\nPRIMARY KEY (PACKAGETYPEID);\n\n\n---------------------------------------------\n--Adding of unique key to table\n---------------------------------------------\nALTER TABLE KN_LOGISTICS.SNOWSQL.WAREHOUSE_PACKAGETYPES\nADD CONSTRAINT UK_WAREHOUSE_PACKAGETYPES_PACKAGETYPENAME\nUNIQUE (PACKAGETYPENAME);\n\n\n-----------------------------------------------------\n-- ERROR HANDLING\n-----------------------------------------------------\nWITH CTE AS (\n    SELECT \n        PACKAGETYPEID,\n        PACKAGETYPENAME,\n        LAG(PACKAGETYPEID) OVER (ORDER BY PACKAGETYPEID) AS prev_packagetypeid,\n        ROW_NUMBER() OVER (ORDER BY PACKAGETYPEID) AS row_num\n    FROM KN_LOGISTICS.SNOWSQL.WAREHOUSE_PACKAGETYPES\n)\nSELECT \n    PACKAGETYPENAME,\n    CASE\n        WHEN PACKAGETYPEID IS NULL THEN prev_packagetypeid + 1\n        ELSE PACKAGETYPEID\n    END AS PACKAGETYPEID\nFROM CTE\nORDER BY row_num;\n\n-------------------------------------------------------\n--Adding of foreign key to table\n-------------------------------------------------------\n-- THERE ARE NO FOREIGN KEYS \n\n",
   "execution_count": null
  }
 ]
}