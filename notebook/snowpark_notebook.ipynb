{
 "metadata": {
  "kernelspec": {
   "display_name": "Streamlit Notebook",
   "name": "streamlit"
  }
 },
 "nbformat_minor": 5,
 "nbformat": 4,
 "cells": [
  {
   "cell_type": "markdown",
   "id": "2e3d0f27-beda-4bd8-ba62-f254495e7199",
   "metadata": {
    "name": "cell11",
    "collapsed": false,
    "resultHeight": 155
   },
   "source": "#### Why Snowpark?\nThe purpose of Snowpark lies in its ability to provide more flexibility, scalability, and integration for data processing and orchestration tasks.|\n\nOrchestrating Jobs and Pipelines: We can automate Snowpark-based pipelines (UDFs, views, and other transformations) in a more flexible way. Snowpark code can be versioned and tested, making it easier to maintain and extend in your pipeline."
  },
  {
   "cell_type": "markdown",
   "id": "a87236c5-ff90-4956-99d6-234a7300a821",
   "metadata": {
    "name": "cell5",
    "collapsed": false,
    "resultHeight": 114
   },
   "source": "#### 1. Loading Data In\n\nSince we already push our data onto Snowflake, we can call for them in this notebook to run in Snowpark. This will be the first step to the data flow overview for establishing the CI/CD deployment & finalizing the ELT pipepline."
  },
  {
   "cell_type": "code",
   "id": "ff89e65c-da15-4839-b75a-e771b4f13dd1",
   "metadata": {
    "language": "python",
    "name": "cell4",
    "codeCollapsed": false,
    "resultHeight": 0,
    "collapsed": false
   },
   "outputs": [],
   "source": "import time\nfrom snowflake.snowpark import Session\n\n# Define all tables organized by categories or schemas\nTABLE_DICT = {\n    \"application\": {\n        \"schema\": \"KN_LOGISTICS.SNOWSQL\", \n        \"tables\": [\n            \"APPLICATION_CITIES\",\n            \"APPLICATION_COUNTRIES_SEA\",\n            \"APPLICATION_DELIVERYMETHODS\",\n            \"APPLICATION_PAYMENTMETHODS\",\n            \"APPLICATION_PEOPLE\",\n            #\"APPLCIATION_PEOPLE_CLEANED\",\n            #\"APPLICATION_PEOPLE_TRANSFORMED\",\n            \"APPLICATION_STATEPROVINCES\",\n            \"APPLICATION_TRANSACTIONTYPES\"\n        ]\n    },\n    \"purchasing\": {\n        \"schema\": \"KN_LOGISTICS.SNOWSQL\",\n        \"tables\": [\n            \"PURCHASING_PURCHASEORDERLINES\",\n            \"PURCHASING_PURCHASEORDERS\",\n            \"PURCHASING_SUPPLIERCATEGORIES\",\n            \"PURCHASING_SUPPLIERS\",\n            \"PURCHASING_SUPPLIERS_CLEANED\",\n            \"PURCHASING_SUPPLIERTRANSACTIONS\",\n            #\"PURCHASING_SUPPLIERTRANSACTIONS_CLEANED\"\n        ]\n    },\n    \"sales\": {\n        \"schema\": \"KN_LOGISTICS.SNOWSQL\",\n        \"tables\": [\n            \"SALES_BUYINGGROUPS\",\n            #\"SALES_BUYINGGROUPS_CLEANED\",\n            \"SALES_CUSTOMERCATEGORIES\",\n            #\"SALES_CUSTOMERCATEGORIES_CLEANED\",\n            \"SALES_CUSTOMERS\",\n            \"SALES_CUSTOMERTRANSACTIONS\",\n            #\"SALES_CUSTOMERTRANSACTIONS_CLEANED\",\n            \"SALES_INVOICELINES\",\n            \"SALES_INVOICES\",\n            \"SALES_ORDERLINES\",\n            \"SALES_ORDERS\"\n        ]\n    },\n    \"warehouse\": {\n        \"schema\": \"KN_LOGISTICS.SNOWSQL\",\n        \"tables\": [\n            \"WAREHOUSE_COLDROOMTEMPERATURES\",\n            \"WAREHOUSE_COLORS\",\n            \"WAREHOUSE_PACKAGETYPES\",\n            \"WAREHOUSE_STOCKGROUPS\",\n            \"WAREHOUSE_STOCKITEMHOLDINGS\",\n            \"WAREHOUSE_STOCKITEMS\",\n            \"WAREHOUSE_STOCKITEMSTOCKGROUPS\",\n            #\"WAREHOUSE_STOCKITEMS_CLEANED\",\n            \"WAREHOUSE_STOCKITEMTRANSACTIONS\",\n            \"WAREHOUSE_VEHICLETEMPERATURES\"\n        ]\n    }\n}\n\ndef load_raw_table(session, tname=None, schema=None):\n    # Adjusted for direct use (no S3 staging assumed in your case)\n    session.use_schema(schema)\n    print(f\"Loading table: {tname}\")\n    # If additional logic for transformations/loading is needed, add it here\n    df = session.table(tname)\n    df.show()  # Example action to verify table content\n\ndef load_all_tables(session):\n    for category, data in TABLE_DICT.items():\n        schema = data['schema']\n        tables = data['tables']\n        for tname in tables:\n            load_raw_table(session, tname=tname, schema=schema)\n\ndef validate_tables(session):\n    for category, data in TABLE_DICT.items():\n        schema = data['schema']\n        tables = data['tables']\n        for tname in tables:\n            session.use_schema(schema)\n            print(f\"Validating table: {tname}\")\n            print(f\"Columns: {session.table(tname).columns}\")",
   "execution_count": null
  },
  {
   "cell_type": "code",
   "id": "b32660d9-0f5c-4975-afd2-bb8b3cacb3ad",
   "metadata": {
    "language": "python",
    "name": "cell6",
    "codeCollapsed": false,
    "resultHeight": 0,
    "collapsed": false
   },
   "outputs": [],
   "source": "# Add the utils package to our path and import the snowpark_utils function\nimport os, sys\ncurrent_dir = os.getcwd()\nparent_dir = os.path.dirname(current_dir)\nsys.path.append(parent_dir)",
   "execution_count": null
  },
  {
   "cell_type": "code",
   "id": "ca3e838c-495c-49df-94be-d548c81adbb7",
   "metadata": {
    "language": "python",
    "name": "cell7",
    "codeCollapsed": false,
    "resultHeight": 0,
    "collapsed": false
   },
   "outputs": [],
   "source": "from snowflake.snowpark.context import get_active_session\nsession = get_active_session()",
   "execution_count": null
  },
  {
   "cell_type": "code",
   "id": "5fb151bf-2d29-43d7-9a65-d08dac6c7064",
   "metadata": {
    "language": "python",
    "name": "cell8",
    "codeCollapsed": false,
    "resultHeight": 8913,
    "collapsed": false
   },
   "outputs": [],
   "source": "load_all_tables(session)",
   "execution_count": null
  },
  {
   "cell_type": "code",
   "id": "a59c36df-1fe8-4bcf-9efb-e834b978efb0",
   "metadata": {
    "language": "python",
    "name": "cell9",
    "codeCollapsed": false,
    "collapsed": false,
    "resultHeight": 1365
   },
   "outputs": [],
   "source": "validate_tables(session)",
   "execution_count": null
  },
  {
   "cell_type": "markdown",
   "id": "ba1fe6a8-428f-4ebb-8eff-e6848b35b6ed",
   "metadata": {
    "name": "cell10",
    "collapsed": false,
    "resultHeight": 197
   },
   "source": "#### 2. Create SNOWSQL View\nWe will simplify the SNOWSQL schema by joining together the tables and picking only the columns we need. This will be done using Snowpark Dataframe API. Then we'll create a Snowflake stream on that view so that we can incrementally process changes to any of the SNOWSQL tables.\n\nThis setup is crucial for ensuring that once the initial data is loaded, we can efficiently manage incremental updates to the SNOWSQL data through the Snowflake stream.\n\nThis joining of tables can only be done when the group has finalized cleaning the tables in Snowflake (Snowsight)."
  },
  {
   "cell_type": "code",
   "id": "16af2036-c048-4b0e-8c76-c882e63c1a6c",
   "metadata": {
    "language": "python",
    "name": "cell1",
    "codeCollapsed": false,
    "collapsed": false,
    "resultHeight": 0
   },
   "outputs": [],
   "source": "# SNOWFLAKE ADVANTAGE: Snowpark DataFrame API\n# SNOWFLAKE ADVANTAGE: Streams for incremental processing (CDC)\n# SNOWFLAKE ADVANTAGE: Streams on views\n\nfrom snowflake.snowpark import Session\nimport snowflake.snowpark.functions as F\n\ndef create_pos_view(session):\n    session.use_schema('SNOWSQL')\n\n    # Define DataFrames for each table with selected columns\n    application_cities = session.table(\"KN_LOGISTICS.SNOWSQL.APPLICATION_CITIES\").select(\n        F.col(\"CITYID\"),\n        F.col(\"CITYNAME\"),\n        F.col(\"STATEPROVINCEID\"),\n        F.col(\"LATITUDE\"),\n        F.col(\"LONGITUDE\"),\n        F.col(\"LATESTRECORDEDPOPULATION\")\n    )\n\n    application_countries_sea = session.table(\"KN_LOGISTICS.SNOWSQL.APPLICATION_COUNTRIES_SEA\").select(\n        F.col(\"COUNTRYID\"),\n        F.col(\"COUNTRYNAME\"),\n        F.col(\"FORMALNAME\"),\n        F.col(\"LATESTRECORDEDPOPULATION\"),\n        F.col(\"CONTINENT\"),\n        F.col(\"REGION\"),\n        F.col(\"SUBREGION\")\n    )\n\n    application_deliverymethods = session.table(\"KN_LOGISTICS.SNOWSQL.APPLICATION_DELIVERYMETHODS\").select(\n        F.col(\"DELIVERYMETHODID\"),\n        F.col(\"DELIVERYMETHODNAME\")\n    )\n\n    application_paymentmethods = session.table(\"KN_LOGISTICS.SNOWSQL.APPLICATION_PAYMENTMETHODS\").select(\n        F.col(\"PAYMENTMETHODID\"),\n        F.col(\"PAYMENTMETHODNAME\")\n    )\n\n    application_people = session.table(\"KN_LOGISTICS.SNOWSQL.APPLICATION_PEOPLE\").select(\n        F.col(\"FULLNAME\"),\n        F.col(\"ISEMPLOYEE\"),\n        F.col(\"ISSALESPERSON\"),\n        F.col(\"PERSONID\"),\n        F.col(\"PREFERREDNAME\"),\n        F.col(\"SEARCHNAME\")\n    )\n\n    application_stateprovinces = session.table(\"KN_LOGISTICS.SNOWSQL.APPLICATION_STATEPROVINCES\").select(\n        F.col(\"COUNTRYID\"),\n        F.col(\"LATESTRECORDEDPOPULATION\"),\n        F.col(\"SALESTERRITORY\"),\n        F.col(\"STATEPROVINCECODE\"),\n        F.col(\"STATEPROVINCEID\"),\n        F.col(\"STATEPROVINCENAME\")\n    )\n\n    purchasing_purchaseorderlines = session.table(\"KN_LOGISTICS.SNOWSQL.PURCHASING_PURCHASEORDERLINES\").select(\n        F.col(\"DESCRIPTION\"),\n        F.col(\"EXPECTEDUNITPRICEPEROUTER\"),\n        F.col(\"ISORDERLINEFINALIZED\"),\n        F.col(\"LASTRECEIPTDATE\"),\n        F.col(\"ORDERDOUTERS\"),\n        F.col(\"PACKAGETYPEID\"),\n        F.col(\"PURCHASEORDERID\"),\n        F.col(\"PURCHASEORDERLINEID\"),\n        F.col(\"RECEIVEDOUTERS\"),\n        F.col(\"STOCKITEMID\")\n    )\n\n    purchasing_purchaseorders = session.table(\"KN_LOGISTICS.SNOWSQL.PURCHASING_PURCHASEORDERS\").select(\n        F.col(\"CONTACTPERSONID\"),\n        F.col(\"DELIVERYMETHODID\"),\n        F.col(\"EXPECTEDDELIVERYDATE\"),\n        F.col(\"ISORDERFINALIZED\"),\n        F.col(\"ORDERDATE\"),\n        F.col(\"PURCHASEORDERID\"),\n        F.col(\"SUPPLIERID\"),\n        F.col(\"SUPPLIERREFERENCE\")\n    )\n\n    sales_customers = session.table(\"KN_LOGISTICS.SNOWSQL.SALES_CUSTOMERS\").select(\n        F.col(\"CUSTOMERID\"),\n        F.col(\"CUSTOMERNAME\"),\n        F.col(\"BILLTOCUSTOMERID\"),\n        F.col(\"CUSTOMERCATEGORYID\"),\n        F.col(\"BUYINGGROUPID\"),\n        F.col(\"PRIMARYCONTACTPERSONID\"),\n        F.col(\"ALTERNATECONTACTPERSONID\"),\n        F.col(\"DELIVERYMETHODID\"),\n        F.col(\"DELIVERYCITYID\"),\n        F.col(\"CREDITLIMIT\"),\n        F.col(\"ACCOUNTOPENEDDATE\"),\n        F.col(\"STANDARDDISCOUNTPERCENTAGE\"),\n        F.col(\"ISSTATEMENTSENT\"),\n        F.col(\"ISONCREDITHOLD\"),\n        F.col(\"PAYMENTDAYS\"),\n        F.col(\"PHONENUMBER\"),\n        F.col(\"WEBSITEURL\")\n    )\n\n    warehouse_stockitems = session.table(\"KN_LOGISTICS.SNOWSQL.WAREHOUSE_STOCKITEMS\").select(\n        F.col(\"STOCKITEMID\"),\n        F.col(\"STOCKITEMNAME\"),\n        F.col(\"UNITPACKAGEID\"),\n        F.col(\"OUTERPACKAGEID\"),\n        F.col(\"BRAND\"),\n        F.col(\"SIZE\"),\n        F.col(\"LEADTIMEDAYS\"),\n        F.col(\"QUANTITYPEROUTER\"),\n        F.col(\"ISCHILLERSTOCK\"),\n        F.col(\"TAXRATE\"),\n        F.col(\"UNITPRICE\"),\n        F.col(\"RECOMMENDEDRETAILPRICE\"),\n        F.col(\"TYPICALWEIGHTPERUNIT\"),\n        F.col(\"SUPPLIERID\"),\n        F.col(\"COLORID\")\n    )\n\n    # Define joins and final DataFrame logic here\n    city_with_stateprov = application_cities.join(\n        application_stateprovinces,\n        application_cities[\"STATEPROVINCEID\"] == application_stateprovinces[\"STATEPROVINCEID\"]\n    ).select(\n        application_cities[\"CITYID\"],\n        application_cities[\"CITYNAME\"],\n        application_cities[\"STATEPROVINCEID\"].alias(\"CITY_STATEPROVINCEID\"),\n        application_stateprovinces[\"STATEPROVINCEID\"].alias(\"STATEPROV_STATEPROVINCEID\"),\n        application_stateprovinces[\"COUNTRYID\"],\n        application_stateprovinces[\"LATESTRECORDEDPOPULATION\"].alias(\"STATE_POPULATION\")\n    )\n\n\n    city_with_stateprov.create_or_replace_view(\"SQL_FLATTENED_V\")\n    \n\ndef create_pos_view_stream(session):\n    session.use_schema('SNOWSQL')\n    _ = session.sql('CREATE OR REPLACE STREAM SNOWSQL_FLATTENED_V_STREAM \\\n                        ON VIEW SQL_FLATTENED_V \\\n                        SHOW_INITIAL_ROWS = TRUE').collect()\n\ndef test_pos_view(session):\n    session.use_schema('SNOWSQL')\n    tv = session.table('SQL_FLATTENED_V')\n    tv.limit(5).show()\n",
   "execution_count": null
  },
  {
   "cell_type": "code",
   "id": "60002c21-9624-4515-a01c-4a5309337f2a",
   "metadata": {
    "language": "python",
    "name": "cell12",
    "codeCollapsed": false,
    "resultHeight": 0
   },
   "outputs": [],
   "source": "# use this place to validate the tables\n# test the code\ncreate_pos_view(session)",
   "execution_count": null
  },
  {
   "cell_type": "code",
   "id": "67d69cee-46c8-4637-b48a-2df7464a7cf6",
   "metadata": {
    "language": "python",
    "name": "cell13",
    "resultHeight": 127,
    "codeCollapsed": false
   },
   "outputs": [],
   "source": "# visualize\n# Test the view created by create_pos_view\ndef validate_view(session):\n    session.use_schema('SNOWSQL')\n    # Load the view into a Snowpark DataFrame\n    df = session.table(\"SQL_FLATTENED_V\")\n    # Display the first few rows for validation\n    df.show()\n\nvalidate_view(session)",
   "execution_count": null
  },
  {
   "cell_type": "code",
   "id": "d19d4fc6-e894-46e7-be6e-40b2b916dfb2",
   "metadata": {
    "language": "python",
    "name": "cell3",
    "codeCollapsed": false
   },
   "outputs": [],
   "source": "",
   "execution_count": null
  }
 ]
}