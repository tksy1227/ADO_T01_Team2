{
 "metadata": {
  "kernelspec": {
   "display_name": ".venv",
   "language": "python",
   "name": "python3"
  },
  "language_info": {
   "codemirror_mode": {
    "name": "ipython",
    "version": 3
   },
   "file_extension": ".py",
   "mimetype": "text/x-python",
   "name": "python",
   "nbconvert_exporter": "python",
   "pygments_lexer": "ipython3",
   "version": "3.11.11"
  },
  "lastEditStatus": {
   "notebookId": "b4kg5xl62hrnt7wuwwk6",
   "authorId": "7488247245231",
   "authorName": "CAMEL",
   "authorEmail": "s10256056@connect.np.edu.sg",
   "sessionId": "66be4662-cff5-4d89-b930-93eb8dff231c",
   "lastEditTime": 1736929713519
  }
 },
 "nbformat_minor": 5,
 "nbformat": 4,
 "cells": [
  {
   "cell_type": "markdown",
   "id": "2e3d0f27-beda-4bd8-ba62-f254495e7199",
   "metadata": {
    "collapsed": false,
    "name": "cell11",
    "resultHeight": 155
   },
   "source": [
    "#### Why Snowpark?\n",
    "The purpose of Snowpark lies in its ability to provide more flexibility, scalability, and integration for data processing and orchestration tasks.|\n",
    "\n",
    "Orchestrating Jobs and Pipelines: We can automate Snowpark-based pipelines (UDFs, views, and other transformations) in a more flexible way. Snowpark code can be versioned and tested, making it easier to maintain and extend in your pipeline."
   ]
  },
  {
   "cell_type": "markdown",
   "id": "a87236c5-ff90-4956-99d6-234a7300a821",
   "metadata": {
    "collapsed": false,
    "name": "cell5",
    "resultHeight": 114
   },
   "source": [
    "#### 1. Loading Data In\n",
    "\n",
    "Since we already push our data onto Snowflake, we can call for them in this notebook to run in Snowpark. This will be the first step to the data flow overview for establishing the CI/CD deployment & finalizing the ELT pipepline."
   ]
  },
  {
   "cell_type": "markdown",
   "id": "fdc79f64-3503-424c-9bb7-5586e30188ed",
   "metadata": {
    "name": "cell14",
    "collapsed": false,
    "resultHeight": 41
   },
   "source": "test t"
  },
  {
   "cell_type": "code",
   "execution_count": 1,
   "id": "197130bb-e97c-4901-bc6b-7624650515b8",
   "metadata": {
    "name": "cell2",
    "language": "python"
   },
   "outputs": [
    {
     "name": "stderr",
     "output_type": "stream",
     "text": [
      "/tmp/ipykernel_16363/790783307.py:2: DeprecationWarning: Python Runtime 3.8 reached its End-Of-Life (EOL) on October 14, 2024, there will be no further bug fixes or security updates for this runtime. We recommend that you upgrade your existing Python 3.8 objects to Python 3.9, 3.10 or 3.11 before March 31, 2025. Please note that end of support does not impact execution, and you will still be able to update and invoke existing objects. However, they will be running on an unsupported runtime which will no longer be maintained or patched by the Snowflake team. For more details, please refer to https://docs.snowflake.com/en/developer-guide/python-runtime-support-policy.\n",
      "  from snowflake.snowpark import Session\n"
     ]
    },
    {
     "name": "stdout",
     "output_type": "stream",
     "text": [
      "SNOWFLAKE_ACCOUNT: None\n",
      "SNOWFLAKE_USER: None\n",
      "SNOWFLAKE_PASSWORD: None\n"
     ]
    },
    {
     "ename": "AttributeError",
     "evalue": "'NoneType' object has no attribute 'find'",
     "output_type": "error",
     "traceback": [
      "\u001b[0;31m---------------------------------------------------------------------------\u001b[0m",
      "\u001b[0;31mAttributeError\u001b[0m                            Traceback (most recent call last)",
      "Cell \u001b[0;32mIn[1], line 21\u001b[0m\n\u001b[1;32m      9\u001b[0m connection_parameters \u001b[38;5;241m=\u001b[39m {\n\u001b[1;32m     10\u001b[0m     \u001b[38;5;124m\"\u001b[39m\u001b[38;5;124maccount\u001b[39m\u001b[38;5;124m\"\u001b[39m: os\u001b[38;5;241m.\u001b[39mgetenv(\u001b[38;5;124m\"\u001b[39m\u001b[38;5;124mSNOWFLAKE_ACCOUNT\u001b[39m\u001b[38;5;124m\"\u001b[39m),\n\u001b[1;32m     11\u001b[0m     \u001b[38;5;124m\"\u001b[39m\u001b[38;5;124muser\u001b[39m\u001b[38;5;124m\"\u001b[39m: os\u001b[38;5;241m.\u001b[39mgetenv(\u001b[38;5;124m\"\u001b[39m\u001b[38;5;124mSNOWFLAKE_USER\u001b[39m\u001b[38;5;124m\"\u001b[39m),\n\u001b[0;32m   (...)\u001b[0m\n\u001b[1;32m     17\u001b[0m     \u001b[38;5;124m\"\u001b[39m\u001b[38;5;124minsecure_mode\u001b[39m\u001b[38;5;124m\"\u001b[39m: \u001b[38;5;28;01mTrue\u001b[39;00m\n\u001b[1;32m     18\u001b[0m }\n\u001b[1;32m     20\u001b[0m \u001b[38;5;66;03m# Create the Snowpark session using the environment variables\u001b[39;00m\n\u001b[0;32m---> 21\u001b[0m session \u001b[38;5;241m=\u001b[39m \u001b[43mSession\u001b[49m\u001b[38;5;241;43m.\u001b[39;49m\u001b[43mbuilder\u001b[49m\u001b[38;5;241;43m.\u001b[39;49m\u001b[43mconfigs\u001b[49m\u001b[43m(\u001b[49m\u001b[43mconnection_parameters\u001b[49m\u001b[43m)\u001b[49m\u001b[38;5;241;43m.\u001b[39;49m\u001b[43mcreate\u001b[49m\u001b[43m(\u001b[49m\u001b[43m)\u001b[49m\n",
      "File \u001b[0;32m/workspaces/ADO_T01_Team2/snowpark-env/lib/python3.8/site-packages/snowflake/snowpark/session.py:476\u001b[0m, in \u001b[0;36mSession.SessionBuilder.create\u001b[0;34m(self)\u001b[0m\n\u001b[1;32m    474\u001b[0m     _add_session(session)\n\u001b[1;32m    475\u001b[0m \u001b[38;5;28;01melse\u001b[39;00m:\n\u001b[0;32m--> 476\u001b[0m     session \u001b[38;5;241m=\u001b[39m \u001b[38;5;28;43mself\u001b[39;49m\u001b[38;5;241;43m.\u001b[39;49m\u001b[43m_create_internal\u001b[49m\u001b[43m(\u001b[49m\u001b[38;5;28;43mself\u001b[39;49m\u001b[38;5;241;43m.\u001b[39;49m\u001b[43m_options\u001b[49m\u001b[38;5;241;43m.\u001b[39;49m\u001b[43mget\u001b[49m\u001b[43m(\u001b[49m\u001b[38;5;124;43m\"\u001b[39;49m\u001b[38;5;124;43mconnection\u001b[39;49m\u001b[38;5;124;43m\"\u001b[39;49m\u001b[43m)\u001b[49m\u001b[43m)\u001b[49m\n\u001b[1;32m    478\u001b[0m \u001b[38;5;28;01mif\u001b[39;00m \u001b[38;5;28mself\u001b[39m\u001b[38;5;241m.\u001b[39m_app_name:\n\u001b[1;32m    479\u001b[0m     \u001b[38;5;28;01mif\u001b[39;00m \u001b[38;5;28mself\u001b[39m\u001b[38;5;241m.\u001b[39m_format_json:\n",
      "File \u001b[0;32m/workspaces/ADO_T01_Team2/snowpark-env/lib/python3.8/site-packages/snowflake/snowpark/session.py:518\u001b[0m, in \u001b[0;36mSession.SessionBuilder._create_internal\u001b[0;34m(self, conn)\u001b[0m\n\u001b[1;32m    515\u001b[0m \u001b[38;5;28;01mif\u001b[39;00m \u001b[38;5;124m\"\u001b[39m\u001b[38;5;124mparamstyle\u001b[39m\u001b[38;5;124m\"\u001b[39m \u001b[38;5;129;01mnot\u001b[39;00m \u001b[38;5;129;01min\u001b[39;00m \u001b[38;5;28mself\u001b[39m\u001b[38;5;241m.\u001b[39m_options:\n\u001b[1;32m    516\u001b[0m     \u001b[38;5;28mself\u001b[39m\u001b[38;5;241m.\u001b[39m_options[\u001b[38;5;124m\"\u001b[39m\u001b[38;5;124mparamstyle\u001b[39m\u001b[38;5;124m\"\u001b[39m] \u001b[38;5;241m=\u001b[39m \u001b[38;5;124m\"\u001b[39m\u001b[38;5;124mqmark\u001b[39m\u001b[38;5;124m\"\u001b[39m\n\u001b[1;32m    517\u001b[0m new_session \u001b[38;5;241m=\u001b[39m Session(\n\u001b[0;32m--> 518\u001b[0m     ServerConnection({}, conn) \u001b[38;5;28;01mif\u001b[39;00m conn \u001b[38;5;28;01melse\u001b[39;00m \u001b[43mServerConnection\u001b[49m\u001b[43m(\u001b[49m\u001b[38;5;28;43mself\u001b[39;49m\u001b[38;5;241;43m.\u001b[39;49m\u001b[43m_options\u001b[49m\u001b[43m)\u001b[49m,\n\u001b[1;32m    519\u001b[0m     \u001b[38;5;28mself\u001b[39m\u001b[38;5;241m.\u001b[39m_options,\n\u001b[1;32m    520\u001b[0m )\n\u001b[1;32m    522\u001b[0m \u001b[38;5;28;01mif\u001b[39;00m \u001b[38;5;124m\"\u001b[39m\u001b[38;5;124mpassword\u001b[39m\u001b[38;5;124m\"\u001b[39m \u001b[38;5;129;01min\u001b[39;00m \u001b[38;5;28mself\u001b[39m\u001b[38;5;241m.\u001b[39m_options:\n\u001b[1;32m    523\u001b[0m     \u001b[38;5;28mself\u001b[39m\u001b[38;5;241m.\u001b[39m_options[\u001b[38;5;124m\"\u001b[39m\u001b[38;5;124mpassword\u001b[39m\u001b[38;5;124m\"\u001b[39m] \u001b[38;5;241m=\u001b[39m \u001b[38;5;28;01mNone\u001b[39;00m\n",
      "File \u001b[0;32m/workspaces/ADO_T01_Team2/snowpark-env/lib/python3.8/site-packages/snowflake/snowpark/_internal/server_connection.py:164\u001b[0m, in \u001b[0;36mServerConnection.__init__\u001b[0;34m(self, options, conn)\u001b[0m\n\u001b[1;32m    162\u001b[0m \u001b[38;5;28mself\u001b[39m\u001b[38;5;241m.\u001b[39m_lower_case_parameters \u001b[38;5;241m=\u001b[39m {k\u001b[38;5;241m.\u001b[39mlower(): v \u001b[38;5;28;01mfor\u001b[39;00m k, v \u001b[38;5;129;01min\u001b[39;00m options\u001b[38;5;241m.\u001b[39mitems()}\n\u001b[1;32m    163\u001b[0m \u001b[38;5;28mself\u001b[39m\u001b[38;5;241m.\u001b[39m_add_application_parameters()\n\u001b[0;32m--> 164\u001b[0m \u001b[38;5;28mself\u001b[39m\u001b[38;5;241m.\u001b[39m_conn \u001b[38;5;241m=\u001b[39m conn \u001b[38;5;28;01mif\u001b[39;00m conn \u001b[38;5;28;01melse\u001b[39;00m \u001b[43mconnect\u001b[49m\u001b[43m(\u001b[49m\u001b[38;5;241;43m*\u001b[39;49m\u001b[38;5;241;43m*\u001b[39;49m\u001b[38;5;28;43mself\u001b[39;49m\u001b[38;5;241;43m.\u001b[39;49m\u001b[43m_lower_case_parameters\u001b[49m\u001b[43m)\u001b[49m\n\u001b[1;32m    165\u001b[0m \u001b[38;5;28mself\u001b[39m\u001b[38;5;241m.\u001b[39mmax_string_size \u001b[38;5;241m=\u001b[39m DEFAULT_STRING_SIZE\n\u001b[1;32m    166\u001b[0m \u001b[38;5;28;01mif\u001b[39;00m \u001b[38;5;28mself\u001b[39m\u001b[38;5;241m.\u001b[39m_conn\u001b[38;5;241m.\u001b[39m_session_parameters:\n",
      "File \u001b[0;32m/workspaces/ADO_T01_Team2/snowpark-env/lib/python3.8/site-packages/snowflake/connector/__init__.py:55\u001b[0m, in \u001b[0;36mConnect\u001b[0;34m(**kwargs)\u001b[0m\n\u001b[1;32m     53\u001b[0m \u001b[38;5;129m@wraps\u001b[39m(SnowflakeConnection\u001b[38;5;241m.\u001b[39m\u001b[38;5;21m__init__\u001b[39m)\n\u001b[1;32m     54\u001b[0m \u001b[38;5;28;01mdef\u001b[39;00m\u001b[38;5;250m \u001b[39m\u001b[38;5;21mConnect\u001b[39m(\u001b[38;5;241m*\u001b[39m\u001b[38;5;241m*\u001b[39mkwargs) \u001b[38;5;241m-\u001b[39m\u001b[38;5;241m>\u001b[39m SnowflakeConnection:\n\u001b[0;32m---> 55\u001b[0m     \u001b[38;5;28;01mreturn\u001b[39;00m \u001b[43mSnowflakeConnection\u001b[49m\u001b[43m(\u001b[49m\u001b[38;5;241;43m*\u001b[39;49m\u001b[38;5;241;43m*\u001b[39;49m\u001b[43mkwargs\u001b[49m\u001b[43m)\u001b[49m\n",
      "File \u001b[0;32m/workspaces/ADO_T01_Team2/snowpark-env/lib/python3.8/site-packages/snowflake/connector/connection.py:457\u001b[0m, in \u001b[0;36mSnowflakeConnection.__init__\u001b[0;34m(self, connection_name, connections_file_path, **kwargs)\u001b[0m\n\u001b[1;32m    455\u001b[0m     kwargs \u001b[38;5;241m=\u001b[39m _get_default_connection_params()\n\u001b[1;32m    456\u001b[0m \u001b[38;5;28mself\u001b[39m\u001b[38;5;241m.\u001b[39m__set_error_attributes()\n\u001b[0;32m--> 457\u001b[0m \u001b[38;5;28;43mself\u001b[39;49m\u001b[38;5;241;43m.\u001b[39;49m\u001b[43mconnect\u001b[49m\u001b[43m(\u001b[49m\u001b[38;5;241;43m*\u001b[39;49m\u001b[38;5;241;43m*\u001b[39;49m\u001b[43mkwargs\u001b[49m\u001b[43m)\u001b[49m\n\u001b[1;32m    458\u001b[0m \u001b[38;5;28mself\u001b[39m\u001b[38;5;241m.\u001b[39m_telemetry \u001b[38;5;241m=\u001b[39m TelemetryClient(\u001b[38;5;28mself\u001b[39m\u001b[38;5;241m.\u001b[39m_rest)\n\u001b[1;32m    459\u001b[0m \u001b[38;5;28mself\u001b[39m\u001b[38;5;241m.\u001b[39mexpired \u001b[38;5;241m=\u001b[39m \u001b[38;5;28;01mFalse\u001b[39;00m\n",
      "File \u001b[0;32m/workspaces/ADO_T01_Team2/snowpark-env/lib/python3.8/site-packages/snowflake/connector/connection.py:733\u001b[0m, in \u001b[0;36mSnowflakeConnection.connect\u001b[0;34m(self, **kwargs)\u001b[0m\n\u001b[1;32m    731\u001b[0m logger\u001b[38;5;241m.\u001b[39mdebug(\u001b[38;5;124m\"\u001b[39m\u001b[38;5;124mconnect\u001b[39m\u001b[38;5;124m\"\u001b[39m)\n\u001b[1;32m    732\u001b[0m \u001b[38;5;28;01mif\u001b[39;00m \u001b[38;5;28mlen\u001b[39m(kwargs) \u001b[38;5;241m>\u001b[39m \u001b[38;5;241m0\u001b[39m:\n\u001b[0;32m--> 733\u001b[0m     \u001b[38;5;28;43mself\u001b[39;49m\u001b[38;5;241;43m.\u001b[39;49m\u001b[43m__config\u001b[49m\u001b[43m(\u001b[49m\u001b[38;5;241;43m*\u001b[39;49m\u001b[38;5;241;43m*\u001b[39;49m\u001b[43mkwargs\u001b[49m\u001b[43m)\u001b[49m\n\u001b[1;32m    735\u001b[0m \u001b[38;5;28;01mif\u001b[39;00m \u001b[38;5;28mself\u001b[39m\u001b[38;5;241m.\u001b[39menable_connection_diag:\n\u001b[1;32m    736\u001b[0m     exceptions_dict \u001b[38;5;241m=\u001b[39m {}\n",
      "File \u001b[0;32m/workspaces/ADO_T01_Team2/snowpark-env/lib/python3.8/site-packages/snowflake/connector/connection.py:1191\u001b[0m, in \u001b[0;36mSnowflakeConnection.__config\u001b[0;34m(self, **kwargs)\u001b[0m\n\u001b[1;32m   1189\u001b[0m \u001b[38;5;28;01mif\u001b[39;00m \u001b[38;5;124m\"\u001b[39m\u001b[38;5;124maccount\u001b[39m\u001b[38;5;124m\"\u001b[39m \u001b[38;5;129;01min\u001b[39;00m kwargs:\n\u001b[1;32m   1190\u001b[0m     \u001b[38;5;28;01mif\u001b[39;00m \u001b[38;5;124m\"\u001b[39m\u001b[38;5;124mhost\u001b[39m\u001b[38;5;124m\"\u001b[39m \u001b[38;5;129;01mnot\u001b[39;00m \u001b[38;5;129;01min\u001b[39;00m kwargs:\n\u001b[0;32m-> 1191\u001b[0m         \u001b[38;5;28mself\u001b[39m\u001b[38;5;241m.\u001b[39m_host \u001b[38;5;241m=\u001b[39m \u001b[43mconstruct_hostname\u001b[49m\u001b[43m(\u001b[49m\u001b[43mkwargs\u001b[49m\u001b[38;5;241;43m.\u001b[39;49m\u001b[43mget\u001b[49m\u001b[43m(\u001b[49m\u001b[38;5;124;43m\"\u001b[39;49m\u001b[38;5;124;43mregion\u001b[39;49m\u001b[38;5;124;43m\"\u001b[39;49m\u001b[43m)\u001b[49m\u001b[43m,\u001b[49m\u001b[43m \u001b[49m\u001b[38;5;28;43mself\u001b[39;49m\u001b[38;5;241;43m.\u001b[39;49m\u001b[43m_account\u001b[49m\u001b[43m)\u001b[49m\n\u001b[1;32m   1192\u001b[0m     \u001b[38;5;28;01mif\u001b[39;00m \u001b[38;5;124m\"\u001b[39m\u001b[38;5;124mport\u001b[39m\u001b[38;5;124m\"\u001b[39m \u001b[38;5;129;01mnot\u001b[39;00m \u001b[38;5;129;01min\u001b[39;00m kwargs:\n\u001b[1;32m   1193\u001b[0m         \u001b[38;5;28mself\u001b[39m\u001b[38;5;241m.\u001b[39m_port \u001b[38;5;241m=\u001b[39m \u001b[38;5;124m\"\u001b[39m\u001b[38;5;124m443\u001b[39m\u001b[38;5;124m\"\u001b[39m\n",
      "File \u001b[0;32m/workspaces/ADO_T01_Team2/snowpark-env/lib/python3.8/site-packages/snowflake/connector/util_text.py:254\u001b[0m, in \u001b[0;36mconstruct_hostname\u001b[0;34m(region, account)\u001b[0m\n\u001b[1;32m    252\u001b[0m \u001b[38;5;28;01melse\u001b[39;00m:\n\u001b[1;32m    253\u001b[0m     top_level_domain \u001b[38;5;241m=\u001b[39m \u001b[38;5;124m\"\u001b[39m\u001b[38;5;124mcom\u001b[39m\u001b[38;5;124m\"\u001b[39m\n\u001b[0;32m--> 254\u001b[0m     \u001b[38;5;28;01mif\u001b[39;00m \u001b[43maccount\u001b[49m\u001b[38;5;241;43m.\u001b[39;49m\u001b[43mfind\u001b[49m(\u001b[38;5;124m\"\u001b[39m\u001b[38;5;124m.\u001b[39m\u001b[38;5;124m\"\u001b[39m) \u001b[38;5;241m>\u001b[39m \u001b[38;5;241m0\u001b[39m \u001b[38;5;129;01mand\u001b[39;00m _is_china_region(account\u001b[38;5;241m.\u001b[39msplit(\u001b[38;5;124m\"\u001b[39m\u001b[38;5;124m.\u001b[39m\u001b[38;5;124m\"\u001b[39m)[\u001b[38;5;241m1\u001b[39m]):\n\u001b[1;32m    255\u001b[0m         top_level_domain \u001b[38;5;241m=\u001b[39m \u001b[38;5;124m\"\u001b[39m\u001b[38;5;124mcn\u001b[39m\u001b[38;5;124m\"\u001b[39m\n\u001b[1;32m    256\u001b[0m     host \u001b[38;5;241m=\u001b[39m \u001b[38;5;124mf\u001b[39m\u001b[38;5;124m\"\u001b[39m\u001b[38;5;132;01m{\u001b[39;00maccount\u001b[38;5;132;01m}\u001b[39;00m\u001b[38;5;124m.snowflakecomputing.\u001b[39m\u001b[38;5;132;01m{\u001b[39;00mtop_level_domain\u001b[38;5;132;01m}\u001b[39;00m\u001b[38;5;124m\"\u001b[39m\n",
      "\u001b[0;31mAttributeError\u001b[0m: 'NoneType' object has no attribute 'find'"
     ]
    }
   ],
   "source": [
    "import os\n",
    "from snowflake.snowpark import Session\n",
    "\n",
    "# Print out the environment variables to debug\n",
    "print(\"SNOWFLAKE_ACCOUNT:\", os.getenv(\"SNOWFLAKE_ACCOUNT\"))\n",
    "print(\"SNOWFLAKE_USER:\", os.getenv(\"SNOWFLAKE_USER\"))\n",
    "print(\"SNOWFLAKE_PASSWORD:\", os.getenv(\"SNOWFLAKE_PASSWORD\"))\n",
    "\n",
    "connection_parameters = {\n",
    "    \"account\": os.getenv(\"SNOWFLAKE_ACCOUNT\"),\n",
    "    \"user\": os.getenv(\"SNOWFLAKE_USER\"),\n",
    "    \"password\": os.getenv(\"SNOWFLAKE_PASSWORD\"),\n",
    "    \"warehouse\": os.getenv(\"SNOWFLAKE_WAREHOUSE\"),\n",
    "    \"database\": os.getenv(\"SNOWFLAKE_DATABASE\"),\n",
    "    \"schema\": os.getenv(\"SNOWFLAKE_SCHEMA\", \"SNOWSQL\"),\n",
    "    \"role\": os.getenv(\"SNOWFLAKE_ROLE\", \"ACCOUNTADMIN\"),\n",
    "    \"insecure_mode\": True\n",
    "}\n",
    "\n",
    "# Create the Snowpark session using the environment variables\n",
    "session = Session.builder.configs(connection_parameters).create()\n"
   ]
  },
  {
   "cell_type": "code",
   "execution_count": 1,
   "id": "ce110000-1111-2222-3333-ffffff000000",
   "metadata": {
    "name": "cell4",
    "language": "python"
   },
   "outputs": [],
   "source": [
    "import time\n",
    "from snowflake.snowpark import Session\n",
    "\n",
    "# Define all tables organized by categories or schemas\n",
    "TABLE_DICT = {\n",
    "    \"application\": {\n",
    "        \"schema\": \"KN_LOGISTICS.SNOWSQL\", \n",
    "        \"tables\": [\n",
    "            \"APPLICATION_CITIES\",\n",
    "            \"APPLICATION_COUNTRIES_SEA\",\n",
    "            \"APPLICATION_DELIVERYMETHODS\",\n",
    "            \"APPLICATION_PAYMENTMETHODS\",\n",
    "            \"APPLICATION_PEOPLE\",\n",
    "            #\"APPLCIATION_PEOPLE_CLEANED\",\n",
    "            #\"APPLICATION_PEOPLE_TRANSFORMED\",\n",
    "            \"APPLICATION_STATEPROVINCES\",\n",
    "            \"APPLICATION_TRANSACTIONTYPES\"\n",
    "        ]\n",
    "    },\n",
    "    \"purchasing\": {\n",
    "        \"schema\": \"KN_LOGISTICS.SNOWSQL\",\n",
    "        \"tables\": [\n",
    "            \"PURCHASING_PURCHASEORDERLINES\",\n",
    "            \"PURCHASING_PURCHASEORDERS\",\n",
    "            \"PURCHASING_SUPPLIERCATEGORIES\",\n",
    "            \"PURCHASING_SUPPLIERS\",\n",
    "            \"PURCHASING_SUPPLIERS_CLEANED\",\n",
    "            \"PURCHASING_SUPPLIERTRANSACTIONS\",\n",
    "            #\"PURCHASING_SUPPLIERTRANSACTIONS_CLEANED\"\n",
    "        ]\n",
    "    },\n",
    "    \"sales\": {\n",
    "        \"schema\": \"KN_LOGISTICS.SNOWSQL\",\n",
    "        \"tables\": [\n",
    "            \"SALES_BUYINGGROUPS\",\n",
    "            #\"SALES_BUYINGGROUPS_CLEANED\",\n",
    "            \"SALES_CUSTOMERCATEGORIES\",\n",
    "            #\"SALES_CUSTOMERCATEGORIES_CLEANED\",\n",
    "            \"SALES_CUSTOMERS\",\n",
    "            \"SALES_CUSTOMERTRANSACTIONS\",\n",
    "            #\"SALES_CUSTOMERTRANSACTIONS_CLEANED\",\n",
    "            \"SALES_INVOICELINES\",\n",
    "            \"SALES_INVOICES\",\n",
    "            \"SALES_ORDERLINES\",\n",
    "            \"SALES_ORDERS\"\n",
    "        ]\n",
    "    },\n",
    "    \"warehouse\": {\n",
    "        \"schema\": \"KN_LOGISTICS.SNOWSQL\",\n",
    "        \"tables\": [\n",
    "            \"WAREHOUSE_COLDROOMTEMPERATURES\",\n",
    "            \"WAREHOUSE_COLORS\",\n",
    "            \"WAREHOUSE_PACKAGETYPES\",\n",
    "            \"WAREHOUSE_STOCKGROUPS\",\n",
    "            \"WAREHOUSE_STOCKITEMHOLDINGS\",\n",
    "            \"WAREHOUSE_STOCKITEMS\",\n",
    "            \"WAREHOUSE_STOCKITEMSTOCKGROUPS\",\n",
    "            #\"WAREHOUSE_STOCKITEMS_CLEANED\",\n",
    "            \"WAREHOUSE_STOCKITEMTRANSACTIONS\",\n",
    "            \"WAREHOUSE_VEHICLETEMPERATURES\"\n",
    "        ]\n",
    "    }\n",
    "}\n",
    "\n",
    "def load_raw_table(session, tname=None, schema=None):\n",
    "    # Adjusted for direct use (no S3 staging assumed in your case)\n",
    "    session.use_schema(schema)\n",
    "    print(f\"Loading table: {tname}\")\n",
    "    # If additional logic for transformations/loading is needed, add it here\n",
    "    df = session.table(tname)\n",
    "    df.show()  # Example action to verify table content\n",
    "\n",
    "def load_all_tables(session):\n",
    "    for category, data in TABLE_DICT.items():\n",
    "        schema = data['schema']\n",
    "        tables = data['tables']\n",
    "        for tname in tables:\n",
    "            load_raw_table(session, tname=tname, schema=schema)\n",
    "\n",
    "def validate_tables(session):\n",
    "    for category, data in TABLE_DICT.items():\n",
    "        schema = data['schema']\n",
    "        tables = data['tables']\n",
    "        for tname in tables:\n",
    "            session.use_schema(schema)\n",
    "            print(f\"Validating table: {tname}\")\n",
    "            print(f\"Columns: {session.table(tname).columns}\")"
   ]
  },
  {
   "cell_type": "code",
   "execution_count": null,
   "id": "b32660d9-0f5c-4975-afd2-bb8b3cacb3ad",
   "metadata": {
    "codeCollapsed": false,
    "collapsed": false,
    "language": "python",
    "name": "cell6",
    "resultHeight": 0
   },
   "outputs": [],
   "source": [
    "# Add the utils package to our path and import the snowpark_utils function\n",
    "import os, sys\n",
    "current_dir = os.getcwd()\n",
    "parent_dir = os.path.dirname(current_dir)\n",
    "sys.path.append(parent_dir)"
   ]
  },
  {
   "cell_type": "code",
   "execution_count": null,
   "id": "ca3e838c-495c-49df-94be-d548c81adbb7",
   "metadata": {
    "codeCollapsed": false,
    "collapsed": false,
    "language": "python",
    "name": "cell7",
    "resultHeight": 0
   },
   "outputs": [],
   "source": [
    "from snowflake.snowpark.context import get_active_session\n",
    "session = get_active_session()"
   ]
  },
  {
   "cell_type": "code",
   "execution_count": null,
   "id": "5fb151bf-2d29-43d7-9a65-d08dac6c7064",
   "metadata": {
    "codeCollapsed": false,
    "collapsed": false,
    "language": "python",
    "name": "cell8",
    "resultHeight": 8913
   },
   "outputs": [],
   "source": [
    "load_all_tables(session)"
   ]
  },
  {
   "cell_type": "code",
   "execution_count": null,
   "id": "a59c36df-1fe8-4bcf-9efb-e834b978efb0",
   "metadata": {
    "codeCollapsed": false,
    "collapsed": false,
    "language": "python",
    "name": "cell9",
    "resultHeight": 1365
   },
   "outputs": [],
   "source": [
    "validate_tables(session)"
   ]
  },
  {
   "cell_type": "markdown",
   "id": "ba1fe6a8-428f-4ebb-8eff-e6848b35b6ed",
   "metadata": {
    "collapsed": false,
    "name": "cell10",
    "resultHeight": 197
   },
   "source": [
    "#### 2. Create SNOWSQL View\n",
    "We will simplify the SNOWSQL schema by joining together the tables and picking only the columns we need. This will be done using Snowpark Dataframe API. Then we'll create a Snowflake stream on that view so that we can incrementally process changes to any of the SNOWSQL tables.\n",
    "\n",
    "This setup is crucial for ensuring that once the initial data is loaded, we can efficiently manage incremental updates to the SNOWSQL data through the Snowflake stream.\n",
    "\n",
    "This joining of tables can only be done when the group has finalized cleaning the tables in Snowflake (Snowsight)."
   ]
  },
  {
   "cell_type": "code",
   "execution_count": null,
   "id": "16af2036-c048-4b0e-8c76-c882e63c1a6c",
   "metadata": {
    "codeCollapsed": false,
    "collapsed": false,
    "language": "python",
    "name": "cell1",
    "resultHeight": 0
   },
   "outputs": [],
   "source": [
    "# SNOWFLAKE ADVANTAGE: Snowpark DataFrame API\n",
    "# SNOWFLAKE ADVANTAGE: Streams for incremental processing (CDC)\n",
    "# SNOWFLAKE ADVANTAGE: Streams on views\n",
    "\n",
    "from snowflake.snowpark import Session\n",
    "import snowflake.snowpark.functions as F\n",
    "\n",
    "def create_pos_view(session):\n",
    "    session.use_schema('SNOWSQL')\n",
    "\n",
    "    # Define DataFrames for each table with selected columns\n",
    "    application_cities = session.table(\"KN_LOGISTICS.SNOWSQL.APPLICATION_CITIES\").select(\n",
    "        F.col(\"CITYID\"),\n",
    "        F.col(\"CITYNAME\"),\n",
    "        F.col(\"STATEPROVINCEID\"),\n",
    "        F.col(\"LATITUDE\"),\n",
    "        F.col(\"LONGITUDE\"),\n",
    "        F.col(\"LATESTRECORDEDPOPULATION\")\n",
    "    )\n",
    "\n",
    "    application_countries_sea = session.table(\"KN_LOGISTICS.SNOWSQL.APPLICATION_COUNTRIES_SEA\").select(\n",
    "        F.col(\"COUNTRYID\"),\n",
    "        F.col(\"COUNTRYNAME\"),\n",
    "        F.col(\"FORMALNAME\"),\n",
    "        F.col(\"LATESTRECORDEDPOPULATION\"),\n",
    "        F.col(\"CONTINENT\"),\n",
    "        F.col(\"REGION\"),\n",
    "        F.col(\"SUBREGION\")\n",
    "    )\n",
    "\n",
    "    application_deliverymethods = session.table(\"KN_LOGISTICS.SNOWSQL.APPLICATION_DELIVERYMETHODS\").select(\n",
    "        F.col(\"DELIVERYMETHODID\"),\n",
    "        F.col(\"DELIVERYMETHODNAME\")\n",
    "    )\n",
    "\n",
    "    application_paymentmethods = session.table(\"KN_LOGISTICS.SNOWSQL.APPLICATION_PAYMENTMETHODS\").select(\n",
    "        F.col(\"PAYMENTMETHODID\"),\n",
    "        F.col(\"PAYMENTMETHODNAME\")\n",
    "    )\n",
    "\n",
    "    application_people = session.table(\"KN_LOGISTICS.SNOWSQL.APPLICATION_PEOPLE\").select(\n",
    "        F.col(\"FULLNAME\"),\n",
    "        F.col(\"ISEMPLOYEE\"),\n",
    "        F.col(\"ISSALESPERSON\"),\n",
    "        F.col(\"PERSONID\"),\n",
    "        F.col(\"PREFERREDNAME\"),\n",
    "        F.col(\"SEARCHNAME\")\n",
    "    )\n",
    "\n",
    "    application_stateprovinces = session.table(\"KN_LOGISTICS.SNOWSQL.APPLICATION_STATEPROVINCES\").select(\n",
    "        F.col(\"COUNTRYID\"),\n",
    "        F.col(\"LATESTRECORDEDPOPULATION\"),\n",
    "        F.col(\"SALESTERRITORY\"),\n",
    "        F.col(\"STATEPROVINCECODE\"),\n",
    "        F.col(\"STATEPROVINCEID\"),\n",
    "        F.col(\"STATEPROVINCENAME\")\n",
    "    )\n",
    "\n",
    "    purchasing_purchaseorderlines = session.table(\"KN_LOGISTICS.SNOWSQL.PURCHASING_PURCHASEORDERLINES\").select(\n",
    "        F.col(\"DESCRIPTION\"),\n",
    "        F.col(\"EXPECTEDUNITPRICEPEROUTER\"),\n",
    "        F.col(\"ISORDERLINEFINALIZED\"),\n",
    "        F.col(\"LASTRECEIPTDATE\"),\n",
    "        F.col(\"ORDERDOUTERS\"),\n",
    "        F.col(\"PACKAGETYPEID\"),\n",
    "        F.col(\"PURCHASEORDERID\"),\n",
    "        F.col(\"PURCHASEORDERLINEID\"),\n",
    "        F.col(\"RECEIVEDOUTERS\"),\n",
    "        F.col(\"STOCKITEMID\")\n",
    "    )\n",
    "\n",
    "    purchasing_purchaseorders = session.table(\"KN_LOGISTICS.SNOWSQL.PURCHASING_PURCHASEORDERS\").select(\n",
    "        F.col(\"CONTACTPERSONID\"),\n",
    "        F.col(\"DELIVERYMETHODID\"),\n",
    "        F.col(\"EXPECTEDDELIVERYDATE\"),\n",
    "        F.col(\"ISORDERFINALIZED\"),\n",
    "        F.col(\"ORDERDATE\"),\n",
    "        F.col(\"PURCHASEORDERID\"),\n",
    "        F.col(\"SUPPLIERID\"),\n",
    "        F.col(\"SUPPLIERREFERENCE\")\n",
    "    )\n",
    "\n",
    "    sales_customers = session.table(\"KN_LOGISTICS.SNOWSQL.SALES_CUSTOMERS\").select(\n",
    "        F.col(\"CUSTOMERID\"),\n",
    "        F.col(\"CUSTOMERNAME\"),\n",
    "        F.col(\"BILLTOCUSTOMERID\"),\n",
    "        F.col(\"CUSTOMERCATEGORYID\"),\n",
    "        F.col(\"BUYINGGROUPID\"),\n",
    "        F.col(\"PRIMARYCONTACTPERSONID\"),\n",
    "        F.col(\"ALTERNATECONTACTPERSONID\"),\n",
    "        F.col(\"DELIVERYMETHODID\"),\n",
    "        F.col(\"DELIVERYCITYID\"),\n",
    "        F.col(\"CREDITLIMIT\"),\n",
    "        F.col(\"ACCOUNTOPENEDDATE\"),\n",
    "        F.col(\"STANDARDDISCOUNTPERCENTAGE\"),\n",
    "        F.col(\"ISSTATEMENTSENT\"),\n",
    "        F.col(\"ISONCREDITHOLD\"),\n",
    "        F.col(\"PAYMENTDAYS\"),\n",
    "        F.col(\"PHONENUMBER\"),\n",
    "        F.col(\"WEBSITEURL\")\n",
    "    )\n",
    "\n",
    "    warehouse_stockitems = session.table(\"KN_LOGISTICS.SNOWSQL.WAREHOUSE_STOCKITEMS\").select(\n",
    "        F.col(\"STOCKITEMID\"),\n",
    "        F.col(\"STOCKITEMNAME\"),\n",
    "        F.col(\"UNITPACKAGEID\"),\n",
    "        F.col(\"OUTERPACKAGEID\"),\n",
    "        F.col(\"BRAND\"),\n",
    "        F.col(\"SIZE\"),\n",
    "        F.col(\"LEADTIMEDAYS\"),\n",
    "        F.col(\"QUANTITYPEROUTER\"),\n",
    "        F.col(\"ISCHILLERSTOCK\"),\n",
    "        F.col(\"TAXRATE\"),\n",
    "        F.col(\"UNITPRICE\"),\n",
    "        F.col(\"RECOMMENDEDRETAILPRICE\"),\n",
    "        F.col(\"TYPICALWEIGHTPERUNIT\"),\n",
    "        F.col(\"SUPPLIERID\"),\n",
    "        F.col(\"COLORID\")\n",
    "    )\n",
    "\n",
    "    # Define joins and final DataFrame logic here\n",
    "    city_with_stateprov = application_cities.join(\n",
    "        application_stateprovinces,\n",
    "        application_cities[\"STATEPROVINCEID\"] == application_stateprovinces[\"STATEPROVINCEID\"]\n",
    "    ).select(\n",
    "        application_cities[\"CITYID\"],\n",
    "        application_cities[\"CITYNAME\"],\n",
    "        application_cities[\"STATEPROVINCEID\"].alias(\"CITY_STATEPROVINCEID\"),\n",
    "        application_stateprovinces[\"STATEPROVINCEID\"].alias(\"STATEPROV_STATEPROVINCEID\"),\n",
    "        application_stateprovinces[\"COUNTRYID\"],\n",
    "        application_stateprovinces[\"LATESTRECORDEDPOPULATION\"].alias(\"STATE_POPULATION\")\n",
    "    )\n",
    "\n",
    "\n",
    "    city_with_stateprov.create_or_replace_view(\"SQL_FLATTENED_V\")\n",
    "    \n",
    "\n",
    "def create_pos_view_stream(session):\n",
    "    session.use_schema('SNOWSQL')\n",
    "    _ = session.sql('CREATE OR REPLACE STREAM SNOWSQL_FLATTENED_V_STREAM \\\n",
    "                        ON VIEW SQL_FLATTENED_V \\\n",
    "                        SHOW_INITIAL_ROWS = TRUE').collect()\n",
    "\n",
    "def test_pos_view(session):\n",
    "    session.use_schema('SNOWSQL')\n",
    "    tv = session.table('SQL_FLATTENED_V')\n",
    "    tv.limit(5).show()\n"
   ]
  },
  {
   "cell_type": "code",
   "execution_count": null,
   "id": "60002c21-9624-4515-a01c-4a5309337f2a",
   "metadata": {
    "codeCollapsed": false,
    "language": "python",
    "name": "cell12",
    "resultHeight": 0
   },
   "outputs": [],
   "source": [
    "# use this place to validate the tables\n",
    "# test the code\n",
    "create_pos_view(session)"
   ]
  },
  {
   "cell_type": "code",
   "execution_count": null,
   "id": "67d69cee-46c8-4637-b48a-2df7464a7cf6",
   "metadata": {
    "codeCollapsed": false,
    "language": "python",
    "name": "cell13",
    "resultHeight": 127
   },
   "outputs": [],
   "source": [
    "# visualize\n",
    "# Test the view created by create_pos_view\n",
    "def validate_view(session):\n",
    "    session.use_schema('SNOWSQL')\n",
    "    # Load the view into a Snowpark DataFrame\n",
    "    df = session.table(\"SQL_FLATTENED_V\")\n",
    "    # Display the first few rows for validation\n",
    "    df.show()\n",
    "\n",
    "validate_view(session)"
   ]
  },
  {
   "cell_type": "code",
   "execution_count": null,
   "id": "d19d4fc6-e894-46e7-be6e-40b2b916dfb2",
   "metadata": {
    "codeCollapsed": false,
    "language": "python",
    "name": "cell3"
   },
   "outputs": [],
   "source": []
  }
 ]
}